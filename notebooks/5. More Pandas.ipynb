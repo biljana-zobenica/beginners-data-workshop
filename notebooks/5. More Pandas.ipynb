{
 "cells": [
  {
   "cell_type": "markdown",
   "metadata": {},
   "source": [
    "<div class=\"alert alert-block alert-info\" style=\"background-color: #301E40; border: 0px; -moz-border-radius: 10px; -webkit-border-radius: 10px;\">\n",
    "<br/><br/>\n",
    "<h1 style=\"font-size: 45px; color: white; align: center;\"><center>\n",
    "<img src=\"https://raw.githubusercontent.com/HumbleData/beginners-data-workshop/master/media/humble-data-logo-white-transparent.png\" width=\"250px\" /><br/><br/>\n",
    "More pandas\n",
    "</center></h1>\n",
    "</div>"
   ]
  },
  {
   "cell_type": "markdown",
   "metadata": {},
   "source": [
    "***Note***: this notebook contains cell with ***a*** solution. Remember there is not only one solution to a problem!  \n",
    "\n",
    "You will recognise these cells as they start with **# %**.  \n",
    "\n",
    "If you would like to see the solution, you will have to remove the **#** (which can be done by using **Ctrl** and **?**) and run the cell. If you want to run the solution code, you will have to run the cell again."
   ]
  },
  {
   "cell_type": "markdown",
   "metadata": {},
   "source": [
    "---\n",
    "\n",
    "<div class=\"alert alert-block alert-warning\" style=\"padding: 0px; padding-left: 20px; padding-top: 5px;\"><h2 style=\"color: #301E40\">\n",
    "Exercise\n",
    "</h2><br>\n",
    "</div>"
   ]
  },
  {
   "cell_type": "markdown",
   "metadata": {},
   "source": [
    "> 1. Import pandas (with the mostly used convention seen in notebook 2).  \n",
    "> 2. Import datetime.  \n",
    "> 3. Import matplotlib (as shown in notebook 3.1).  \n",
    "> 4. Add the magic command to show the plot in Jupyter."
   ]
  },
  {
   "cell_type": "code",
   "execution_count": 3,
   "metadata": {
    "jupyter": {
     "outputs_hidden": false
    }
   },
   "outputs": [],
   "source": [
    "import pandas as pd\n",
    "import datetime\n",
    "import matplotlib.pyplot as plt\n",
    "\n",
    "%matplotlib inline"
   ]
  },
  {
   "cell_type": "code",
   "execution_count": null,
   "metadata": {
    "jupyter": {
     "outputs_hidden": false
    }
   },
   "outputs": [],
   "source": [
    "# %load ../solutions/05_01.py"
   ]
  },
  {
   "cell_type": "markdown",
   "metadata": {},
   "source": [
    "In this notebook, we are going to use data provided by the [UK government](https://data.gov.uk/dataset/a59198d9-2e24-4816-be1b-c3a1efa02dda/better-training-for-safer-food). It is provided under the [Open Government Licence](http://www.nationalarchives.gov.uk/doc/open-government-licence/version/3/)."
   ]
  },
  {
   "cell_type": "markdown",
   "metadata": {},
   "source": [
    ">Load the data of the year 2014 and assign it to df_2014 (path: '../data/food_training/training_2014.csv')"
   ]
  },
  {
   "cell_type": "code",
   "execution_count": 4,
   "metadata": {
    "jupyter": {
     "outputs_hidden": false
    }
   },
   "outputs": [],
   "source": [
    "df_2014 = pd.read_csv('../data/food_training/training_2014.csv')"
   ]
  },
  {
   "cell_type": "code",
   "execution_count": null,
   "metadata": {
    "jupyter": {
     "outputs_hidden": false
    }
   },
   "outputs": [],
   "source": [
    "# %load ../solutions/05_02.py"
   ]
  },
  {
   "cell_type": "markdown",
   "metadata": {},
   "source": [
    ">Have a look at the first rows of df_2014"
   ]
  },
  {
   "cell_type": "code",
   "execution_count": 5,
   "metadata": {
    "jupyter": {
     "outputs_hidden": false
    }
   },
   "outputs": [
    {
     "data": {
      "text/html": [
       "<div>\n",
       "<style scoped>\n",
       "    .dataframe tbody tr th:only-of-type {\n",
       "        vertical-align: middle;\n",
       "    }\n",
       "\n",
       "    .dataframe tbody tr th {\n",
       "        vertical-align: top;\n",
       "    }\n",
       "\n",
       "    .dataframe thead th {\n",
       "        text-align: right;\n",
       "    }\n",
       "</style>\n",
       "<table border=\"1\" class=\"dataframe\">\n",
       "  <thead>\n",
       "    <tr style=\"text-align: right;\">\n",
       "      <th></th>\n",
       "      <th>Unnamed: 0</th>\n",
       "      <th>Unnamed: 1</th>\n",
       "      <th>Unnamed: 2</th>\n",
       "      <th>Unnamed: 3</th>\n",
       "      <th>Unnamed: 4</th>\n",
       "      <th>Unnamed: 5</th>\n",
       "      <th>Unnamed: 6</th>\n",
       "    </tr>\n",
       "  </thead>\n",
       "  <tbody>\n",
       "    <tr>\n",
       "      <th>0</th>\n",
       "      <td>CourseName</td>\n",
       "      <td>Location</td>\n",
       "      <td>DateFrom</td>\n",
       "      <td>DateTo</td>\n",
       "      <td>Attendees</td>\n",
       "      <td>NaN</td>\n",
       "      <td>NaN</td>\n",
       "    </tr>\n",
       "  </tbody>\n",
       "</table>\n",
       "</div>"
      ],
      "text/plain": [
       "   Unnamed: 0 Unnamed: 1 Unnamed: 2 Unnamed: 3 Unnamed: 4  Unnamed: 5  \\\n",
       "0  CourseName   Location   DateFrom     DateTo  Attendees         NaN   \n",
       "\n",
       "   Unnamed: 6  \n",
       "0         NaN  "
      ]
     },
     "execution_count": 5,
     "metadata": {},
     "output_type": "execute_result"
    }
   ],
   "source": [
    "df_2014.head(1)"
   ]
  },
  {
   "cell_type": "code",
   "execution_count": null,
   "metadata": {
    "jupyter": {
     "outputs_hidden": false
    }
   },
   "outputs": [],
   "source": [
    "# %load ../solutions/05_03.py"
   ]
  },
  {
   "cell_type": "markdown",
   "metadata": {},
   "source": [
    "You can see that the header are not at the right place.  \n",
    "If you have a look at the documentation, you will see that the *header* parameter of the read_csv method is set to *infer*. It will infer the header using the first row (which has the index *0*)."
   ]
  },
  {
   "cell_type": "markdown",
   "metadata": {},
   "source": [
    ">Load the data of the year 2014 using the header parameter and assign it to df_2014 (it will be overwritten)"
   ]
  },
  {
   "cell_type": "code",
   "execution_count": 10,
   "metadata": {
    "jupyter": {
     "outputs_hidden": false
    }
   },
   "outputs": [],
   "source": [
    "df_2014 = pd.read_csv('../data/food_training/training_2014.csv', header=1)\n",
    "# header=0 denotes the first line of data rather than the first line of the file (def from documentation);"
   ]
  },
  {
   "cell_type": "code",
   "execution_count": null,
   "metadata": {
    "jupyter": {
     "outputs_hidden": false
    }
   },
   "outputs": [],
   "source": [
    "# %load ../solutions/05_04.py"
   ]
  },
  {
   "cell_type": "markdown",
   "metadata": {},
   "source": [
    ">Have a look at the first rows of df_2014. Looks better, isn't it?"
   ]
  },
  {
   "cell_type": "code",
   "execution_count": 11,
   "metadata": {
    "jupyter": {
     "outputs_hidden": false
    }
   },
   "outputs": [
    {
     "data": {
      "text/html": [
       "<div>\n",
       "<style scoped>\n",
       "    .dataframe tbody tr th:only-of-type {\n",
       "        vertical-align: middle;\n",
       "    }\n",
       "\n",
       "    .dataframe tbody tr th {\n",
       "        vertical-align: top;\n",
       "    }\n",
       "\n",
       "    .dataframe thead th {\n",
       "        text-align: right;\n",
       "    }\n",
       "</style>\n",
       "<table border=\"1\" class=\"dataframe\">\n",
       "  <thead>\n",
       "    <tr style=\"text-align: right;\">\n",
       "      <th></th>\n",
       "      <th>CourseName</th>\n",
       "      <th>Location</th>\n",
       "      <th>DateFrom</th>\n",
       "      <th>DateTo</th>\n",
       "      <th>Attendees</th>\n",
       "      <th>Unnamed: 5</th>\n",
       "      <th>Unnamed: 6</th>\n",
       "    </tr>\n",
       "  </thead>\n",
       "  <tbody>\n",
       "    <tr>\n",
       "      <th>0</th>\n",
       "      <td>Risk Assessment (Pest)</td>\n",
       "      <td>lisbon;Portugal</td>\n",
       "      <td>2015-01-12</td>\n",
       "      <td>2015-01-16</td>\n",
       "      <td>1</td>\n",
       "      <td>NaN</td>\n",
       "      <td>NaN</td>\n",
       "    </tr>\n",
       "    <tr>\n",
       "      <th>1</th>\n",
       "      <td>Organic Farming</td>\n",
       "      <td>Bristol</td>\n",
       "      <td>2015-01-19</td>\n",
       "      <td>2015-01-22</td>\n",
       "      <td>2</td>\n",
       "      <td>NaN</td>\n",
       "      <td>NaN</td>\n",
       "    </tr>\n",
       "    <tr>\n",
       "      <th>2</th>\n",
       "      <td>Prevention Control and Eradication of Transmis...</td>\n",
       "      <td>Ljubljana;Slovenia</td>\n",
       "      <td>2015-01-20</td>\n",
       "      <td>2015-01-23</td>\n",
       "      <td>2</td>\n",
       "      <td>NaN</td>\n",
       "      <td>NaN</td>\n",
       "    </tr>\n",
       "    <tr>\n",
       "      <th>3</th>\n",
       "      <td>Contingency Planning</td>\n",
       "      <td>Padua</td>\n",
       "      <td>2015-01-26</td>\n",
       "      <td>2015-01-30</td>\n",
       "      <td>2</td>\n",
       "      <td>NaN</td>\n",
       "      <td>NaN</td>\n",
       "    </tr>\n",
       "    <tr>\n",
       "      <th>4</th>\n",
       "      <td>HACCP</td>\n",
       "      <td>Rome</td>\n",
       "      <td>2015-02-02</td>\n",
       "      <td>2015-02-06</td>\n",
       "      <td>2</td>\n",
       "      <td>NaN</td>\n",
       "      <td>NaN</td>\n",
       "    </tr>\n",
       "  </tbody>\n",
       "</table>\n",
       "</div>"
      ],
      "text/plain": [
       "                                          CourseName            Location  \\\n",
       "0                             Risk Assessment (Pest)     lisbon;Portugal   \n",
       "1                                    Organic Farming             Bristol   \n",
       "2  Prevention Control and Eradication of Transmis...  Ljubljana;Slovenia   \n",
       "3                               Contingency Planning               Padua   \n",
       "4                                              HACCP                Rome   \n",
       "\n",
       "     DateFrom      DateTo  Attendees  Unnamed: 5  Unnamed: 6  \n",
       "0  2015-01-12  2015-01-16          1         NaN         NaN  \n",
       "1  2015-01-19  2015-01-22          2         NaN         NaN  \n",
       "2  2015-01-20  2015-01-23          2         NaN         NaN  \n",
       "3  2015-01-26  2015-01-30          2         NaN         NaN  \n",
       "4  2015-02-02  2015-02-06          2         NaN         NaN  "
      ]
     },
     "execution_count": 11,
     "metadata": {},
     "output_type": "execute_result"
    }
   ],
   "source": [
    "df_2014.head()"
   ]
  },
  {
   "cell_type": "code",
   "execution_count": null,
   "metadata": {
    "jupyter": {
     "outputs_hidden": false
    }
   },
   "outputs": [],
   "source": [
    "# %load ../solutions/05_05.py"
   ]
  },
  {
   "cell_type": "markdown",
   "metadata": {},
   "source": [
    ">Load the data for the years 2015 and 2016 and assign them to df_2015 and df_2016 (don't forget the parameter!)"
   ]
  },
  {
   "cell_type": "code",
   "execution_count": 12,
   "metadata": {
    "jupyter": {
     "outputs_hidden": false
    }
   },
   "outputs": [],
   "source": [
    "df_2015 = pd.read_csv('../data/food_training/training_2015.csv', header=1)\n",
    "df_2016 = pd.read_csv('../data/food_training/training_2016.csv', header=1)"
   ]
  },
  {
   "cell_type": "code",
   "execution_count": null,
   "metadata": {
    "jupyter": {
     "outputs_hidden": false
    }
   },
   "outputs": [],
   "source": [
    "# %load ../solutions/05_06.py"
   ]
  },
  {
   "cell_type": "code",
   "execution_count": 13,
   "metadata": {},
   "outputs": [
    {
     "data": {
      "text/html": [
       "<div>\n",
       "<style scoped>\n",
       "    .dataframe tbody tr th:only-of-type {\n",
       "        vertical-align: middle;\n",
       "    }\n",
       "\n",
       "    .dataframe tbody tr th {\n",
       "        vertical-align: top;\n",
       "    }\n",
       "\n",
       "    .dataframe thead th {\n",
       "        text-align: right;\n",
       "    }\n",
       "</style>\n",
       "<table border=\"1\" class=\"dataframe\">\n",
       "  <thead>\n",
       "    <tr style=\"text-align: right;\">\n",
       "      <th></th>\n",
       "      <th>CourseName</th>\n",
       "      <th>Location</th>\n",
       "      <th>DateFrom</th>\n",
       "      <th>DateTo</th>\n",
       "      <th>Attendees</th>\n",
       "      <th>Unnamed: 5</th>\n",
       "      <th>Unnamed: 6</th>\n",
       "    </tr>\n",
       "  </thead>\n",
       "  <tbody>\n",
       "    <tr>\n",
       "      <th>0</th>\n",
       "      <td>Food Hygiene and Flexibility</td>\n",
       "      <td>Vilnius</td>\n",
       "      <td>2015-04-12</td>\n",
       "      <td>2015-04-17</td>\n",
       "      <td>2</td>\n",
       "      <td>NaN</td>\n",
       "      <td>NaN</td>\n",
       "    </tr>\n",
       "    <tr>\n",
       "      <th>1</th>\n",
       "      <td>Plant Health Risks</td>\n",
       "      <td>Milan;Italy</td>\n",
       "      <td>2015-04-13</td>\n",
       "      <td>2015-04-16</td>\n",
       "      <td>1</td>\n",
       "      <td>NaN</td>\n",
       "      <td>NaN</td>\n",
       "    </tr>\n",
       "    <tr>\n",
       "      <th>2</th>\n",
       "      <td>New Investigative Techniques</td>\n",
       "      <td>Madrid</td>\n",
       "      <td>2015-04-13</td>\n",
       "      <td>2015-04-16</td>\n",
       "      <td>2</td>\n",
       "      <td>NaN</td>\n",
       "      <td>NaN</td>\n",
       "    </tr>\n",
       "    <tr>\n",
       "      <th>3</th>\n",
       "      <td>Foodborne Outbreaks Investigations</td>\n",
       "      <td>Lisbon</td>\n",
       "      <td>2015-04-13</td>\n",
       "      <td>2015-04-17</td>\n",
       "      <td>2</td>\n",
       "      <td>NaN</td>\n",
       "      <td>NaN</td>\n",
       "    </tr>\n",
       "    <tr>\n",
       "      <th>4</th>\n",
       "      <td>Food Hygiene at Primary Production (Plants)</td>\n",
       "      <td>Budapest</td>\n",
       "      <td>2015-04-13</td>\n",
       "      <td>2015-04-17</td>\n",
       "      <td>2</td>\n",
       "      <td>NaN</td>\n",
       "      <td>NaN</td>\n",
       "    </tr>\n",
       "  </tbody>\n",
       "</table>\n",
       "</div>"
      ],
      "text/plain": [
       "                                    CourseName     Location    DateFrom  \\\n",
       "0                 Food Hygiene and Flexibility      Vilnius  2015-04-12   \n",
       "1                           Plant Health Risks  Milan;Italy  2015-04-13   \n",
       "2                 New Investigative Techniques       Madrid  2015-04-13   \n",
       "3           Foodborne Outbreaks Investigations       Lisbon  2015-04-13   \n",
       "4  Food Hygiene at Primary Production (Plants)     Budapest  2015-04-13   \n",
       "\n",
       "       DateTo  Attendees  Unnamed: 5  Unnamed: 6  \n",
       "0  2015-04-17          2         NaN         NaN  \n",
       "1  2015-04-16          1         NaN         NaN  \n",
       "2  2015-04-16          2         NaN         NaN  \n",
       "3  2015-04-17          2         NaN         NaN  \n",
       "4  2015-04-17          2         NaN         NaN  "
      ]
     },
     "execution_count": 13,
     "metadata": {},
     "output_type": "execute_result"
    }
   ],
   "source": [
    "df_2015.head()"
   ]
  },
  {
   "cell_type": "code",
   "execution_count": 14,
   "metadata": {},
   "outputs": [
    {
     "data": {
      "text/html": [
       "<div>\n",
       "<style scoped>\n",
       "    .dataframe tbody tr th:only-of-type {\n",
       "        vertical-align: middle;\n",
       "    }\n",
       "\n",
       "    .dataframe tbody tr th {\n",
       "        vertical-align: top;\n",
       "    }\n",
       "\n",
       "    .dataframe thead th {\n",
       "        text-align: right;\n",
       "    }\n",
       "</style>\n",
       "<table border=\"1\" class=\"dataframe\">\n",
       "  <thead>\n",
       "    <tr style=\"text-align: right;\">\n",
       "      <th></th>\n",
       "      <th>CourseName</th>\n",
       "      <th>Location</th>\n",
       "      <th>DateFrom</th>\n",
       "      <th>DateTo</th>\n",
       "      <th>Attendees</th>\n",
       "      <th>Unnamed: 5</th>\n",
       "      <th>Unnamed: 6</th>\n",
       "    </tr>\n",
       "  </thead>\n",
       "  <tbody>\n",
       "    <tr>\n",
       "      <th>0</th>\n",
       "      <td>Food Composition and Information</td>\n",
       "      <td>Valencia;Spain</td>\n",
       "      <td>2016-04-04</td>\n",
       "      <td>2016-04-08</td>\n",
       "      <td>2</td>\n",
       "      <td>NaN</td>\n",
       "      <td>NaN</td>\n",
       "    </tr>\n",
       "    <tr>\n",
       "      <th>1</th>\n",
       "      <td>HACCP</td>\n",
       "      <td>Dublin;Ireland</td>\n",
       "      <td>2016-04-04</td>\n",
       "      <td>2016-04-08</td>\n",
       "      <td>3</td>\n",
       "      <td>NaN</td>\n",
       "      <td>NaN</td>\n",
       "    </tr>\n",
       "    <tr>\n",
       "      <th>2</th>\n",
       "      <td>Food Hygiene and Flexibility</td>\n",
       "      <td>Vilnius;Lithuania</td>\n",
       "      <td>2016-04-04</td>\n",
       "      <td>2016-04-08</td>\n",
       "      <td>2</td>\n",
       "      <td>NaN</td>\n",
       "      <td>NaN</td>\n",
       "    </tr>\n",
       "    <tr>\n",
       "      <th>3</th>\n",
       "      <td>Foodborne Outbreaks Investigations</td>\n",
       "      <td>Berlin</td>\n",
       "      <td>2016-04-04</td>\n",
       "      <td>2016-04-08</td>\n",
       "      <td>2</td>\n",
       "      <td>NaN</td>\n",
       "      <td>NaN</td>\n",
       "    </tr>\n",
       "    <tr>\n",
       "      <th>4</th>\n",
       "      <td>Traces (USE AT IMPORT OF LIVE ANIMALS AND PROD...</td>\n",
       "      <td>Alicante;Spain</td>\n",
       "      <td>2016-04-05</td>\n",
       "      <td>2016-04-08</td>\n",
       "      <td>1</td>\n",
       "      <td>NaN</td>\n",
       "      <td>NaN</td>\n",
       "    </tr>\n",
       "  </tbody>\n",
       "</table>\n",
       "</div>"
      ],
      "text/plain": [
       "                                          CourseName           Location  \\\n",
       "0                   Food Composition and Information     Valencia;Spain   \n",
       "1                                              HACCP     Dublin;Ireland   \n",
       "2                       Food Hygiene and Flexibility  Vilnius;Lithuania   \n",
       "3                 Foodborne Outbreaks Investigations             Berlin   \n",
       "4  Traces (USE AT IMPORT OF LIVE ANIMALS AND PROD...     Alicante;Spain   \n",
       "\n",
       "     DateFrom      DateTo  Attendees  Unnamed: 5  Unnamed: 6  \n",
       "0  2016-04-04  2016-04-08          2         NaN         NaN  \n",
       "1  2016-04-04  2016-04-08          3         NaN         NaN  \n",
       "2  2016-04-04  2016-04-08          2         NaN         NaN  \n",
       "3  2016-04-04  2016-04-08          2         NaN         NaN  \n",
       "4  2016-04-05  2016-04-08          1         NaN         NaN  "
      ]
     },
     "execution_count": 14,
     "metadata": {},
     "output_type": "execute_result"
    }
   ],
   "source": [
    "df_2016.head()"
   ]
  },
  {
   "cell_type": "markdown",
   "metadata": {},
   "source": [
    "---\n",
    "\n",
    "<div class=\"alert alert-block alert-warning\" style=\"padding: 0px; padding-left: 20px; padding-top: 5px;\"><h2 style=\"color: #301E40\">\n",
    "Concatenate\n",
    "</h2><br>\n",
    "</div>"
   ]
  },
  {
   "cell_type": "markdown",
   "metadata": {},
   "source": [
    "Pandas have a good page with documentation about [merge, join and concatenation](https://pandas.pydata.org/pandas-docs/stable/user_guide/merging.html)."
   ]
  },
  {
   "cell_type": "markdown",
   "metadata": {},
   "source": [
    ">Using the documentation, concatenate the 3 dataframe into one, named df."
   ]
  },
  {
   "cell_type": "code",
   "execution_count": 19,
   "metadata": {
    "jupyter": {
     "outputs_hidden": false
    }
   },
   "outputs": [],
   "source": [
    "frames = [df_2014, df_2015, df_2016]\n",
    "df = pd.concat(frames)"
   ]
  },
  {
   "cell_type": "code",
   "execution_count": null,
   "metadata": {
    "jupyter": {
     "outputs_hidden": false
    }
   },
   "outputs": [],
   "source": [
    "# %load ../solutions/05_07.py"
   ]
  },
  {
   "cell_type": "markdown",
   "metadata": {},
   "source": [
    ">check the shape of df"
   ]
  },
  {
   "cell_type": "code",
   "execution_count": 21,
   "metadata": {
    "jupyter": {
     "outputs_hidden": false
    }
   },
   "outputs": [
    {
     "data": {
      "text/plain": [
       "(266, 7)"
      ]
     },
     "execution_count": 21,
     "metadata": {},
     "output_type": "execute_result"
    }
   ],
   "source": [
    "df.shape"
   ]
  },
  {
   "cell_type": "code",
   "execution_count": null,
   "metadata": {
    "jupyter": {
     "outputs_hidden": false
    }
   },
   "outputs": [],
   "source": [
    "# %load ../solutions/05_08.py"
   ]
  },
  {
   "cell_type": "markdown",
   "metadata": {},
   "source": [
    ">Look at the indices of df using the index attribute."
   ]
  },
  {
   "cell_type": "code",
   "execution_count": 23,
   "metadata": {
    "jupyter": {
     "outputs_hidden": false
    }
   },
   "outputs": [
    {
     "data": {
      "text/plain": [
       "Int64Index([  0,   1,   2,   3,   4,   5,   6,   7,   8,   9,\n",
       "            ...\n",
       "            106, 107, 108, 109, 110, 111, 112, 113, 114, 115],\n",
       "           dtype='int64', length=266)"
      ]
     },
     "execution_count": 23,
     "metadata": {},
     "output_type": "execute_result"
    }
   ],
   "source": [
    "df.index"
   ]
  },
  {
   "cell_type": "code",
   "execution_count": null,
   "metadata": {
    "jupyter": {
     "outputs_hidden": false
    }
   },
   "outputs": [],
   "source": [
    "# %load ../solutions/05_09.py"
   ]
  },
  {
   "cell_type": "markdown",
   "metadata": {},
   "source": [
    "We can see that the index is not going from 0 to 265 with a step of 1... \n",
    "> Clear the existing index and reset it using the ***reset_index*** method.  \n",
    "> Check df's index."
   ]
  },
  {
   "cell_type": "code",
   "execution_count": 25,
   "metadata": {
    "jupyter": {
     "outputs_hidden": false
    }
   },
   "outputs": [
    {
     "data": {
      "text/plain": [
       "RangeIndex(start=0, stop=266, step=1)"
      ]
     },
     "execution_count": 25,
     "metadata": {},
     "output_type": "execute_result"
    }
   ],
   "source": [
    "df = df.reset_index()\n",
    "df.index"
   ]
  },
  {
   "cell_type": "code",
   "execution_count": null,
   "metadata": {
    "jupyter": {
     "outputs_hidden": false
    }
   },
   "outputs": [],
   "source": [
    "# %load ../solutions/05_10.py"
   ]
  },
  {
   "cell_type": "markdown",
   "metadata": {},
   "source": [
    "---\n",
    "\n",
    "<div class=\"alert alert-block alert-warning\" style=\"padding: 0px; padding-left: 20px; padding-top: 5px;\"><h2 style=\"color: #301E40\">\n",
    "Dropping columns\n",
    "</h2><br>\n",
    "</div>"
   ]
  },
  {
   "cell_type": "markdown",
   "metadata": {},
   "source": [
    ">Show the information relative to df's columns."
   ]
  },
  {
   "cell_type": "code",
   "execution_count": 28,
   "metadata": {
    "jupyter": {
     "outputs_hidden": false
    }
   },
   "outputs": [
    {
     "name": "stdout",
     "output_type": "stream",
     "text": [
      "<class 'pandas.core.frame.DataFrame'>\n",
      "RangeIndex: 266 entries, 0 to 265\n",
      "Data columns (total 8 columns):\n",
      " #   Column      Non-Null Count  Dtype  \n",
      "---  ------      --------------  -----  \n",
      " 0   index       266 non-null    int64  \n",
      " 1   CourseName  266 non-null    object \n",
      " 2   Location    266 non-null    object \n",
      " 3   DateFrom    266 non-null    object \n",
      " 4   DateTo      266 non-null    object \n",
      " 5   Attendees   266 non-null    int64  \n",
      " 6   Unnamed: 5  0 non-null      float64\n",
      " 7   Unnamed: 6  0 non-null      float64\n",
      "dtypes: float64(2), int64(2), object(4)\n",
      "memory usage: 16.8+ KB\n"
     ]
    }
   ],
   "source": [
    "df.info()"
   ]
  },
  {
   "cell_type": "code",
   "execution_count": null,
   "metadata": {
    "jupyter": {
     "outputs_hidden": false
    }
   },
   "outputs": [],
   "source": [
    "# %load ../solutions/05_11.py"
   ]
  },
  {
   "cell_type": "markdown",
   "metadata": {},
   "source": [
    "We can see that the last two columns are completely empty, so we will drop them."
   ]
  },
  {
   "cell_type": "markdown",
   "metadata": {},
   "source": [
    ">Get the help for the drop method (if you prefer, you can search for the documentation on internet)."
   ]
  },
  {
   "cell_type": "code",
   "execution_count": 33,
   "metadata": {
    "jupyter": {
     "outputs_hidden": false
    }
   },
   "outputs": [],
   "source": [
    "?pd.DataFrame.drop"
   ]
  },
  {
   "cell_type": "code",
   "execution_count": null,
   "metadata": {
    "jupyter": {
     "outputs_hidden": false
    },
    "scrolled": true
   },
   "outputs": [],
   "source": [
    "# %load ../solutions/05_12.py"
   ]
  },
  {
   "cell_type": "markdown",
   "metadata": {},
   "source": [
    "You can see that the default value for *axis* is *0*. When it is the case, the method will look at the rows (i.e. *axis 0*) of the dataframe.  \n",
    "In our case, we want to drop columns (i.e. *axis 1*)."
   ]
  },
  {
   "cell_type": "markdown",
   "metadata": {},
   "source": [
    ">Drop the last two columns of df.  \n",
    ">labels: provide a list with the column's names  \n",
    ">Don't forget the axis!"
   ]
  },
  {
   "cell_type": "code",
   "execution_count": 38,
   "metadata": {
    "jupyter": {
     "outputs_hidden": false
    }
   },
   "outputs": [],
   "source": [
    "df = df.drop(axis=1, labels=['Unnamed: 5','Unnamed: 6']) # OK"
   ]
  },
  {
   "cell_type": "code",
   "execution_count": null,
   "metadata": {
    "jupyter": {
     "outputs_hidden": false
    }
   },
   "outputs": [],
   "source": [
    "# %load ../solutions/05_13.py\n",
    "cols_to_remove = ['Unnamed: 5', 'Unnamed: 6']\n",
    "df = df.drop(cols_to_remove, axis=1)"
   ]
  },
  {
   "cell_type": "code",
   "execution_count": 39,
   "metadata": {
    "jupyter": {
     "outputs_hidden": false
    }
   },
   "outputs": [
    {
     "data": {
      "text/html": [
       "<div>\n",
       "<style scoped>\n",
       "    .dataframe tbody tr th:only-of-type {\n",
       "        vertical-align: middle;\n",
       "    }\n",
       "\n",
       "    .dataframe tbody tr th {\n",
       "        vertical-align: top;\n",
       "    }\n",
       "\n",
       "    .dataframe thead th {\n",
       "        text-align: right;\n",
       "    }\n",
       "</style>\n",
       "<table border=\"1\" class=\"dataframe\">\n",
       "  <thead>\n",
       "    <tr style=\"text-align: right;\">\n",
       "      <th></th>\n",
       "      <th>index</th>\n",
       "      <th>CourseName</th>\n",
       "      <th>Location</th>\n",
       "      <th>DateFrom</th>\n",
       "      <th>DateTo</th>\n",
       "      <th>Attendees</th>\n",
       "    </tr>\n",
       "  </thead>\n",
       "  <tbody>\n",
       "    <tr>\n",
       "      <th>0</th>\n",
       "      <td>0</td>\n",
       "      <td>Risk Assessment (Pest)</td>\n",
       "      <td>lisbon;Portugal</td>\n",
       "      <td>2015-01-12</td>\n",
       "      <td>2015-01-16</td>\n",
       "      <td>1</td>\n",
       "    </tr>\n",
       "    <tr>\n",
       "      <th>1</th>\n",
       "      <td>1</td>\n",
       "      <td>Organic Farming</td>\n",
       "      <td>Bristol</td>\n",
       "      <td>2015-01-19</td>\n",
       "      <td>2015-01-22</td>\n",
       "      <td>2</td>\n",
       "    </tr>\n",
       "    <tr>\n",
       "      <th>2</th>\n",
       "      <td>2</td>\n",
       "      <td>Prevention Control and Eradication of Transmis...</td>\n",
       "      <td>Ljubljana;Slovenia</td>\n",
       "      <td>2015-01-20</td>\n",
       "      <td>2015-01-23</td>\n",
       "      <td>2</td>\n",
       "    </tr>\n",
       "    <tr>\n",
       "      <th>3</th>\n",
       "      <td>3</td>\n",
       "      <td>Contingency Planning</td>\n",
       "      <td>Padua</td>\n",
       "      <td>2015-01-26</td>\n",
       "      <td>2015-01-30</td>\n",
       "      <td>2</td>\n",
       "    </tr>\n",
       "    <tr>\n",
       "      <th>4</th>\n",
       "      <td>4</td>\n",
       "      <td>HACCP</td>\n",
       "      <td>Rome</td>\n",
       "      <td>2015-02-02</td>\n",
       "      <td>2015-02-06</td>\n",
       "      <td>2</td>\n",
       "    </tr>\n",
       "  </tbody>\n",
       "</table>\n",
       "</div>"
      ],
      "text/plain": [
       "   index                                         CourseName  \\\n",
       "0      0                             Risk Assessment (Pest)   \n",
       "1      1                                    Organic Farming   \n",
       "2      2  Prevention Control and Eradication of Transmis...   \n",
       "3      3                               Contingency Planning   \n",
       "4      4                                              HACCP   \n",
       "\n",
       "             Location    DateFrom      DateTo  Attendees  \n",
       "0     lisbon;Portugal  2015-01-12  2015-01-16          1  \n",
       "1             Bristol  2015-01-19  2015-01-22          2  \n",
       "2  Ljubljana;Slovenia  2015-01-20  2015-01-23          2  \n",
       "3               Padua  2015-01-26  2015-01-30          2  \n",
       "4                Rome  2015-02-02  2015-02-06          2  "
      ]
     },
     "execution_count": 39,
     "metadata": {},
     "output_type": "execute_result"
    }
   ],
   "source": [
    "df.head()"
   ]
  },
  {
   "cell_type": "markdown",
   "metadata": {},
   "source": [
    "---\n",
    "\n",
    "<div class=\"alert alert-block alert-warning\" style=\"padding: 0px; padding-left: 20px; padding-top: 5px;\"><h2 style=\"color: #301E40\">\n",
    "Text data\n",
    "</h2><br>\n",
    "</div>"
   ]
  },
  {
   "cell_type": "markdown",
   "metadata": {},
   "source": [
    "To [work with text data](https://pandas.pydata.org/pandas-docs/version/0.23.4/text.html), We will have to use the ***str*** attribute to access the methods (e.g. df['col'].str.replace('-', ' ')).  \n",
    "We will have to use this attribute in different cases, but before that we will look at the Location column.  \n",
    ">Display the unique values of the Location column."
   ]
  },
  {
   "cell_type": "code",
   "execution_count": 70,
   "metadata": {
    "jupyter": {
     "outputs_hidden": false
    }
   },
   "outputs": [
    {
     "data": {
      "text/plain": [
       "array(['lisbon;Portugal', 'Bristol', 'Ljubljana;Slovenia', 'Padua',\n",
       "       'Rome', 'Parma', 'Lisbon', 'Munich', 'Murcia', 'Amsterdam',\n",
       "       'Venice', 'Athens', 'Warsaw', 'Berlin', 'Lyon', 'Antwerp', 'Graz',\n",
       "       'Barcelona', ' Budapest', 'Madrid', 'Vilnius', 'Milan;Italy',\n",
       "       'Budapest', 'Trim; Ireland ', 'Grange;Ireland', 'Riga',\n",
       "       'Zagreb;Croatia', 'Genoa', 'Tallinn', 'Padua;Italy',\n",
       "       'Coimbra;Portugal', 'Valencia', 'Bratislava;Slovakia',\n",
       "       'Felixstowe;United Kingdom', 'Maribor', 'Unknown;France', 'Krakow',\n",
       "       'Prague', 'Bremen', 'Rotterdam;Netherlands', 'Munich;Germany',\n",
       "       'Unknown;Denmark', 'Vienna;Austria', 'Trim;Ireland',\n",
       "       'Marseille;France', 'Venice/Udine; Italy ', 'Dusseldorf;Germany',\n",
       "       'Maribor;Slovenia', 'Cardiff', 'Brussels/Antwerp',\n",
       "       'Utrecht;Netherlands', 'Rome;IT', 'Malaga;Spain', 'Unknown;UK',\n",
       "       'Valencia;Spain', 'Warsaw;Poland', 'Tallinn;Estonia', 'Gothenburg',\n",
       "       'Unknown;Italy', 'Felixstowe', 'D?sseldorf', 'Barcelona;Spain',\n",
       "       'Sofia Bulgaria', 'London', 'Budapest;Hungary', 'Lisbon;Portugal',\n",
       "       'Alicante/Murcia;Spain', 'Vienna', 'Frankfurt;Switzerland',\n",
       "       'Brussels', 'Zagreb', ' Venice; Italy', 'Tarragona;Spain',\n",
       "       'Krakow;Poland', 'Athens ; Greece', 'Madrid;Spain',\n",
       "       'Bremen;Germany', 'Athens;Greece', 'Unknown;Spain', 'London ',\n",
       "       'Antwerp; Belgium', 'Torino;Italy', 'Lisbon ', 'Venice/Treviso',\n",
       "       'Genoa;Italy', 'Nantes;France', 'Dublin;Ireland',\n",
       "       'Vilnius;Lithuania', 'Alicante;Spain', 'Grange ; Ireland',\n",
       "       'Cardiff;UK', 'Treviso', 'Brussels;Belgium', 'Ljubljana', 'Poland',\n",
       "       'Malaga', 'Naples;Italy', 'Prague;CZ', 'Antwerp;Belgium', 'lisbon',\n",
       "       'Turin', 'Riga;Latvia', 'Trim', 'Uppsala;Sweden', 'Frankfurt',\n",
       "       'Dusseldorf', 'Trim;Ireland ', 'Milan', 'Coimbra', 'Naples',\n",
       "       'Sofia;BG', 'Rotterdam/Delft', 'Bratislava', 'Denmark',\n",
       "       'Thessaloniki;GR', 'Leipzig;Germany', 'Amsterdam;Netherlands',\n",
       "       'Turin;Italy', 'Berlin;Germany', 'Torino', 'Ljubljana;SI',\n",
       "       'Venice;IT', 'Seville;Spain', 'Treviso;Italy', 'Venice;Italy',\n",
       "       'Zagreb/Helsinki'], dtype=object)"
      ]
     },
     "execution_count": 70,
     "metadata": {},
     "output_type": "execute_result"
    }
   ],
   "source": [
    "df['Location'].unique()"
   ]
  },
  {
   "cell_type": "code",
   "execution_count": null,
   "metadata": {
    "jupyter": {
     "outputs_hidden": false
    }
   },
   "outputs": [],
   "source": [
    "# %load ../solutions/05_14.py"
   ]
  },
  {
   "cell_type": "markdown",
   "metadata": {},
   "source": [
    "You can see that the cities and countries are separated with a semi-column (even if some values are missing). We are going to split the ***Location*** column.\n",
    ">Try splitting the ***Location*** column on the semi-column.  \n",
    ">You can check the [link](https://pandas.pydata.org/pandas-docs/version/0.23.4/text.html) provided earlier or the [documentation](https://pandas.pydata.org/pandas-docs/stable/reference/api/pandas.Series.str.split.html)."
   ]
  },
  {
   "cell_type": "code",
   "execution_count": 71,
   "metadata": {
    "jupyter": {
     "outputs_hidden": false
    }
   },
   "outputs": [
    {
     "data": {
      "text/plain": [
       "0         [lisbon, Portugal]\n",
       "1                  [Bristol]\n",
       "2      [Ljubljana, Slovenia]\n",
       "3                    [Padua]\n",
       "4                     [Rome]\n",
       "               ...          \n",
       "261             [Venice, IT]\n",
       "262               [Valencia]\n",
       "263             [Bratislava]\n",
       "264        [Zagreb/Helsinki]\n",
       "265                [Antwerp]\n",
       "Name: Location, Length: 266, dtype: object"
      ]
     },
     "execution_count": 71,
     "metadata": {},
     "output_type": "execute_result"
    }
   ],
   "source": [
    "df['Location'].str.split(';')"
   ]
  },
  {
   "cell_type": "code",
   "execution_count": null,
   "metadata": {
    "jupyter": {
     "outputs_hidden": false
    }
   },
   "outputs": [],
   "source": [
    "# %load ../solutions/05_15.py"
   ]
  },
  {
   "cell_type": "markdown",
   "metadata": {},
   "source": [
    "This return a list with the items which were before and after the semi-column.  \n",
    ">Try again to split again the ***Location*** column, but expand expand the results to get it in different columns."
   ]
  },
  {
   "cell_type": "code",
   "execution_count": 72,
   "metadata": {
    "jupyter": {
     "outputs_hidden": false
    }
   },
   "outputs": [
    {
     "data": {
      "text/html": [
       "<div>\n",
       "<style scoped>\n",
       "    .dataframe tbody tr th:only-of-type {\n",
       "        vertical-align: middle;\n",
       "    }\n",
       "\n",
       "    .dataframe tbody tr th {\n",
       "        vertical-align: top;\n",
       "    }\n",
       "\n",
       "    .dataframe thead th {\n",
       "        text-align: right;\n",
       "    }\n",
       "</style>\n",
       "<table border=\"1\" class=\"dataframe\">\n",
       "  <thead>\n",
       "    <tr style=\"text-align: right;\">\n",
       "      <th></th>\n",
       "      <th>0</th>\n",
       "      <th>1</th>\n",
       "    </tr>\n",
       "  </thead>\n",
       "  <tbody>\n",
       "    <tr>\n",
       "      <th>0</th>\n",
       "      <td>lisbon</td>\n",
       "      <td>Portugal</td>\n",
       "    </tr>\n",
       "    <tr>\n",
       "      <th>1</th>\n",
       "      <td>Bristol</td>\n",
       "      <td>None</td>\n",
       "    </tr>\n",
       "    <tr>\n",
       "      <th>2</th>\n",
       "      <td>Ljubljana</td>\n",
       "      <td>Slovenia</td>\n",
       "    </tr>\n",
       "    <tr>\n",
       "      <th>3</th>\n",
       "      <td>Padua</td>\n",
       "      <td>None</td>\n",
       "    </tr>\n",
       "    <tr>\n",
       "      <th>4</th>\n",
       "      <td>Rome</td>\n",
       "      <td>None</td>\n",
       "    </tr>\n",
       "    <tr>\n",
       "      <th>...</th>\n",
       "      <td>...</td>\n",
       "      <td>...</td>\n",
       "    </tr>\n",
       "    <tr>\n",
       "      <th>261</th>\n",
       "      <td>Venice</td>\n",
       "      <td>IT</td>\n",
       "    </tr>\n",
       "    <tr>\n",
       "      <th>262</th>\n",
       "      <td>Valencia</td>\n",
       "      <td>None</td>\n",
       "    </tr>\n",
       "    <tr>\n",
       "      <th>263</th>\n",
       "      <td>Bratislava</td>\n",
       "      <td>None</td>\n",
       "    </tr>\n",
       "    <tr>\n",
       "      <th>264</th>\n",
       "      <td>Zagreb/Helsinki</td>\n",
       "      <td>None</td>\n",
       "    </tr>\n",
       "    <tr>\n",
       "      <th>265</th>\n",
       "      <td>Antwerp</td>\n",
       "      <td>None</td>\n",
       "    </tr>\n",
       "  </tbody>\n",
       "</table>\n",
       "<p>266 rows × 2 columns</p>\n",
       "</div>"
      ],
      "text/plain": [
       "                   0         1\n",
       "0             lisbon  Portugal\n",
       "1            Bristol      None\n",
       "2          Ljubljana  Slovenia\n",
       "3              Padua      None\n",
       "4               Rome      None\n",
       "..               ...       ...\n",
       "261           Venice        IT\n",
       "262         Valencia      None\n",
       "263       Bratislava      None\n",
       "264  Zagreb/Helsinki      None\n",
       "265          Antwerp      None\n",
       "\n",
       "[266 rows x 2 columns]"
      ]
     },
     "execution_count": 72,
     "metadata": {},
     "output_type": "execute_result"
    }
   ],
   "source": [
    "df['Location'].str.split(';', expand=True)"
   ]
  },
  {
   "cell_type": "code",
   "execution_count": null,
   "metadata": {
    "jupyter": {
     "outputs_hidden": false
    },
    "scrolled": true
   },
   "outputs": [],
   "source": [
    "# %load ../solutions/05_16.py"
   ]
  },
  {
   "cell_type": "markdown",
   "metadata": {},
   "source": [
    ">Create a ***city*** and a ***country*** columns in df using this split."
   ]
  },
  {
   "cell_type": "code",
   "execution_count": 75,
   "metadata": {
    "jupyter": {
     "outputs_hidden": false
    }
   },
   "outputs": [],
   "source": [
    "df[['City','Country']] = df['Location'].str.split(';', expand=True)"
   ]
  },
  {
   "cell_type": "code",
   "execution_count": null,
   "metadata": {
    "jupyter": {
     "outputs_hidden": false
    }
   },
   "outputs": [],
   "source": [
    "# %load ../solutions/05_17.py"
   ]
  },
  {
   "cell_type": "markdown",
   "metadata": {},
   "source": [
    ">Drop the ***Location*** column."
   ]
  },
  {
   "cell_type": "code",
   "execution_count": null,
   "metadata": {
    "jupyter": {
     "outputs_hidden": false
    }
   },
   "outputs": [],
   "source": [
    "df = df.drop(labels='Location', axis=1)"
   ]
  },
  {
   "cell_type": "code",
   "execution_count": null,
   "metadata": {
    "jupyter": {
     "outputs_hidden": false
    }
   },
   "outputs": [],
   "source": [
    "# %load ../solutions/05_18.py"
   ]
  },
  {
   "cell_type": "code",
   "execution_count": 81,
   "metadata": {
    "jupyter": {
     "outputs_hidden": false
    }
   },
   "outputs": [
    {
     "data": {
      "text/html": [
       "<div>\n",
       "<style scoped>\n",
       "    .dataframe tbody tr th:only-of-type {\n",
       "        vertical-align: middle;\n",
       "    }\n",
       "\n",
       "    .dataframe tbody tr th {\n",
       "        vertical-align: top;\n",
       "    }\n",
       "\n",
       "    .dataframe thead th {\n",
       "        text-align: right;\n",
       "    }\n",
       "</style>\n",
       "<table border=\"1\" class=\"dataframe\">\n",
       "  <thead>\n",
       "    <tr style=\"text-align: right;\">\n",
       "      <th></th>\n",
       "      <th>level_0</th>\n",
       "      <th>index</th>\n",
       "      <th>CourseName</th>\n",
       "      <th>DateFrom</th>\n",
       "      <th>DateTo</th>\n",
       "      <th>Attendees</th>\n",
       "      <th>City</th>\n",
       "      <th>Country</th>\n",
       "    </tr>\n",
       "  </thead>\n",
       "  <tbody>\n",
       "    <tr>\n",
       "      <th>0</th>\n",
       "      <td>0</td>\n",
       "      <td>0</td>\n",
       "      <td>Risk Assessment (Pest)</td>\n",
       "      <td>2015-01-12</td>\n",
       "      <td>2015-01-16</td>\n",
       "      <td>1</td>\n",
       "      <td>lisbon</td>\n",
       "      <td>Portugal</td>\n",
       "    </tr>\n",
       "    <tr>\n",
       "      <th>1</th>\n",
       "      <td>1</td>\n",
       "      <td>1</td>\n",
       "      <td>Organic Farming</td>\n",
       "      <td>2015-01-19</td>\n",
       "      <td>2015-01-22</td>\n",
       "      <td>2</td>\n",
       "      <td>Bristol</td>\n",
       "      <td>None</td>\n",
       "    </tr>\n",
       "    <tr>\n",
       "      <th>2</th>\n",
       "      <td>2</td>\n",
       "      <td>2</td>\n",
       "      <td>Prevention Control and Eradication of Transmis...</td>\n",
       "      <td>2015-01-20</td>\n",
       "      <td>2015-01-23</td>\n",
       "      <td>2</td>\n",
       "      <td>Ljubljana</td>\n",
       "      <td>Slovenia</td>\n",
       "    </tr>\n",
       "    <tr>\n",
       "      <th>3</th>\n",
       "      <td>3</td>\n",
       "      <td>3</td>\n",
       "      <td>Contingency Planning</td>\n",
       "      <td>2015-01-26</td>\n",
       "      <td>2015-01-30</td>\n",
       "      <td>2</td>\n",
       "      <td>Padua</td>\n",
       "      <td>None</td>\n",
       "    </tr>\n",
       "    <tr>\n",
       "      <th>4</th>\n",
       "      <td>4</td>\n",
       "      <td>4</td>\n",
       "      <td>HACCP</td>\n",
       "      <td>2015-02-02</td>\n",
       "      <td>2015-02-06</td>\n",
       "      <td>2</td>\n",
       "      <td>Rome</td>\n",
       "      <td>None</td>\n",
       "    </tr>\n",
       "  </tbody>\n",
       "</table>\n",
       "</div>"
      ],
      "text/plain": [
       "   level_0  index                                         CourseName  \\\n",
       "0        0      0                             Risk Assessment (Pest)   \n",
       "1        1      1                                    Organic Farming   \n",
       "2        2      2  Prevention Control and Eradication of Transmis...   \n",
       "3        3      3                               Contingency Planning   \n",
       "4        4      4                                              HACCP   \n",
       "\n",
       "     DateFrom      DateTo  Attendees       City   Country  \n",
       "0  2015-01-12  2015-01-16          1     lisbon  Portugal  \n",
       "1  2015-01-19  2015-01-22          2    Bristol      None  \n",
       "2  2015-01-20  2015-01-23          2  Ljubljana  Slovenia  \n",
       "3  2015-01-26  2015-01-30          2      Padua      None  \n",
       "4  2015-02-02  2015-02-06          2       Rome      None  "
      ]
     },
     "execution_count": 81,
     "metadata": {},
     "output_type": "execute_result"
    }
   ],
   "source": [
    "df.head()"
   ]
  },
  {
   "cell_type": "markdown",
   "metadata": {},
   "source": [
    ">Get the number of unique values in the ***country*** column."
   ]
  },
  {
   "cell_type": "code",
   "execution_count": 82,
   "metadata": {
    "jupyter": {
     "outputs_hidden": false
    }
   },
   "outputs": [
    {
     "data": {
      "text/plain": [
       "35"
      ]
     },
     "execution_count": 82,
     "metadata": {},
     "output_type": "execute_result"
    }
   ],
   "source": [
    "df['Country'].nunique()"
   ]
  },
  {
   "cell_type": "code",
   "execution_count": null,
   "metadata": {
    "jupyter": {
     "outputs_hidden": false
    }
   },
   "outputs": [],
   "source": [
    "# %load ../solutions/05_19.py"
   ]
  },
  {
   "cell_type": "markdown",
   "metadata": {},
   "source": [
    ">Check the count of each unique values in the ***country*** column."
   ]
  },
  {
   "cell_type": "code",
   "execution_count": 84,
   "metadata": {
    "jupyter": {
     "outputs_hidden": false
    }
   },
   "outputs": [
    {
     "data": {
      "text/plain": [
       "Ireland           16\n",
       "Spain             13\n",
       "Italy             13\n",
       "Germany            5\n",
       "IT                 5\n",
       "Portugal           4\n",
       "Slovenia           4\n",
       "Greece             4\n",
       "UK                 4\n",
       "Netherlands        3\n",
       "France             3\n",
       "Belgium            3\n",
       "Poland             2\n",
       "Estonia            1\n",
       "Latvia             1\n",
       "BG                 1\n",
       "Croatia            1\n",
       "Switzerland        1\n",
       "CZ                 1\n",
       "Slovakia           1\n",
       "SI                 1\n",
       "Austria            1\n",
       "Hungary            1\n",
       "Ireland            1\n",
       "Lithuania          1\n",
       " Ireland           1\n",
       "United Kingdom     1\n",
       "Denmark            1\n",
       " Greece            1\n",
       " Belgium           1\n",
       " Italy             1\n",
       "GR                 1\n",
       " Ireland           1\n",
       " Italy             1\n",
       "Sweden             1\n",
       "Name: Country, dtype: int64"
      ]
     },
     "execution_count": 84,
     "metadata": {},
     "output_type": "execute_result"
    }
   ],
   "source": [
    "df['Country'].value_counts()"
   ]
  },
  {
   "cell_type": "code",
   "execution_count": null,
   "metadata": {
    "jupyter": {
     "outputs_hidden": false
    }
   },
   "outputs": [],
   "source": [
    "# %load ../solutions/05_20.py"
   ]
  },
  {
   "cell_type": "markdown",
   "metadata": {},
   "source": [
    "We can see that some countries (e.g. Italy) seems to appear several times with some variations.\n",
    ">Use the strip method to remove the (potential) extra spaces at the beginning and the end of the cities and countries."
   ]
  },
  {
   "cell_type": "code",
   "execution_count": 87,
   "metadata": {
    "jupyter": {
     "outputs_hidden": false
    }
   },
   "outputs": [],
   "source": [
    "df['Country'] = df['Country'].str.strip()\n",
    "df['City'] = df['City'].str.strip()"
   ]
  },
  {
   "cell_type": "code",
   "execution_count": null,
   "metadata": {
    "jupyter": {
     "outputs_hidden": false
    }
   },
   "outputs": [],
   "source": [
    "# %load ../solutions/05_21.py"
   ]
  },
  {
   "cell_type": "markdown",
   "metadata": {},
   "source": [
    "   >Check again the number of unique values in the country column"
   ]
  },
  {
   "cell_type": "code",
   "execution_count": 88,
   "metadata": {
    "jupyter": {
     "outputs_hidden": false
    }
   },
   "outputs": [
    {
     "data": {
      "text/plain": [
       "28"
      ]
     },
     "execution_count": 88,
     "metadata": {},
     "output_type": "execute_result"
    }
   ],
   "source": [
    "df['Country'].nunique()"
   ]
  },
  {
   "cell_type": "code",
   "execution_count": null,
   "metadata": {
    "jupyter": {
     "outputs_hidden": false
    }
   },
   "outputs": [],
   "source": [
    "# %load ../solutions/05_22.py"
   ]
  },
  {
   "cell_type": "markdown",
   "metadata": {},
   "source": [
    ">Have a look at the rows where the ***country*** is Portugal.  \n",
    "What do you notice about the ***city***?"
   ]
  },
  {
   "cell_type": "code",
   "execution_count": 92,
   "metadata": {
    "jupyter": {
     "outputs_hidden": false
    }
   },
   "outputs": [
    {
     "data": {
      "text/html": [
       "<div>\n",
       "<style scoped>\n",
       "    .dataframe tbody tr th:only-of-type {\n",
       "        vertical-align: middle;\n",
       "    }\n",
       "\n",
       "    .dataframe tbody tr th {\n",
       "        vertical-align: top;\n",
       "    }\n",
       "\n",
       "    .dataframe thead th {\n",
       "        text-align: right;\n",
       "    }\n",
       "</style>\n",
       "<table border=\"1\" class=\"dataframe\">\n",
       "  <thead>\n",
       "    <tr style=\"text-align: right;\">\n",
       "      <th></th>\n",
       "      <th>level_0</th>\n",
       "      <th>index</th>\n",
       "      <th>CourseName</th>\n",
       "      <th>DateFrom</th>\n",
       "      <th>DateTo</th>\n",
       "      <th>Attendees</th>\n",
       "      <th>City</th>\n",
       "      <th>Country</th>\n",
       "    </tr>\n",
       "  </thead>\n",
       "  <tbody>\n",
       "    <tr>\n",
       "      <th>0</th>\n",
       "      <td>0</td>\n",
       "      <td>0</td>\n",
       "      <td>Risk Assessment (Pest)</td>\n",
       "      <td>2015-01-12</td>\n",
       "      <td>2015-01-16</td>\n",
       "      <td>1</td>\n",
       "      <td>lisbon</td>\n",
       "      <td>Portugal</td>\n",
       "    </tr>\n",
       "    <tr>\n",
       "      <th>44</th>\n",
       "      <td>44</td>\n",
       "      <td>16</td>\n",
       "      <td>Food Hygiene and Flexibility</td>\n",
       "      <td>2015-05-10</td>\n",
       "      <td>2015-05-15</td>\n",
       "      <td>2</td>\n",
       "      <td>Coimbra</td>\n",
       "      <td>Portugal</td>\n",
       "    </tr>\n",
       "    <tr>\n",
       "      <th>117</th>\n",
       "      <td>117</td>\n",
       "      <td>89</td>\n",
       "      <td>Plant Health Controls</td>\n",
       "      <td>2015-11-16</td>\n",
       "      <td>2015-11-19</td>\n",
       "      <td>1</td>\n",
       "      <td>Lisbon</td>\n",
       "      <td>Portugal</td>\n",
       "    </tr>\n",
       "    <tr>\n",
       "      <th>254</th>\n",
       "      <td>254</td>\n",
       "      <td>104</td>\n",
       "      <td>Animal identification registration and traceab...</td>\n",
       "      <td>2016-12-05</td>\n",
       "      <td>2016-12-09</td>\n",
       "      <td>1</td>\n",
       "      <td>Lisbon</td>\n",
       "      <td>Portugal</td>\n",
       "    </tr>\n",
       "  </tbody>\n",
       "</table>\n",
       "</div>"
      ],
      "text/plain": [
       "     level_0  index                                         CourseName  \\\n",
       "0          0      0                             Risk Assessment (Pest)   \n",
       "44        44     16                       Food Hygiene and Flexibility   \n",
       "117      117     89                              Plant Health Controls   \n",
       "254      254    104  Animal identification registration and traceab...   \n",
       "\n",
       "       DateFrom      DateTo  Attendees     City   Country  \n",
       "0    2015-01-12  2015-01-16          1   lisbon  Portugal  \n",
       "44   2015-05-10  2015-05-15          2  Coimbra  Portugal  \n",
       "117  2015-11-16  2015-11-19          1   Lisbon  Portugal  \n",
       "254  2016-12-05  2016-12-09          1   Lisbon  Portugal  "
      ]
     },
     "execution_count": 92,
     "metadata": {},
     "output_type": "execute_result"
    }
   ],
   "source": [
    "df[df['Country'] == 'Portugal']"
   ]
  },
  {
   "cell_type": "code",
   "execution_count": null,
   "metadata": {
    "jupyter": {
     "outputs_hidden": false
    }
   },
   "outputs": [],
   "source": [
    "# %load ../solutions/05_23.py"
   ]
  },
  {
   "cell_type": "markdown",
   "metadata": {},
   "source": [
    ">Put the ***city*** column into lower case (don't forget to re-assign it to the **city** column)."
   ]
  },
  {
   "cell_type": "code",
   "execution_count": 94,
   "metadata": {
    "jupyter": {
     "outputs_hidden": false
    }
   },
   "outputs": [],
   "source": [
    "df['City'] = df['City'].str.lower()"
   ]
  },
  {
   "cell_type": "code",
   "execution_count": null,
   "metadata": {
    "jupyter": {
     "outputs_hidden": false
    }
   },
   "outputs": [],
   "source": [
    "# %load ../solutions/05_24.py"
   ]
  },
  {
   "cell_type": "markdown",
   "metadata": {},
   "source": [
    ">Have a look at the rows where the ***city*** contains ' ***/*** '."
   ]
  },
  {
   "cell_type": "code",
   "execution_count": 98,
   "metadata": {
    "jupyter": {
     "outputs_hidden": false
    }
   },
   "outputs": [
    {
     "data": {
      "text/html": [
       "<div>\n",
       "<style scoped>\n",
       "    .dataframe tbody tr th:only-of-type {\n",
       "        vertical-align: middle;\n",
       "    }\n",
       "\n",
       "    .dataframe tbody tr th {\n",
       "        vertical-align: top;\n",
       "    }\n",
       "\n",
       "    .dataframe thead th {\n",
       "        text-align: right;\n",
       "    }\n",
       "</style>\n",
       "<table border=\"1\" class=\"dataframe\">\n",
       "  <thead>\n",
       "    <tr style=\"text-align: right;\">\n",
       "      <th></th>\n",
       "      <th>level_0</th>\n",
       "      <th>index</th>\n",
       "      <th>CourseName</th>\n",
       "      <th>DateFrom</th>\n",
       "      <th>DateTo</th>\n",
       "      <th>Attendees</th>\n",
       "      <th>City</th>\n",
       "      <th>Country</th>\n",
       "    </tr>\n",
       "  </thead>\n",
       "  <tbody>\n",
       "    <tr>\n",
       "      <th>69</th>\n",
       "      <td>69</td>\n",
       "      <td>41</td>\n",
       "      <td>Food Hygiene at Primary Production (Aquatic An...</td>\n",
       "      <td>2015-06-28</td>\n",
       "      <td>2015-10-02</td>\n",
       "      <td>1</td>\n",
       "      <td>venice/udine</td>\n",
       "      <td>Italy</td>\n",
       "    </tr>\n",
       "    <tr>\n",
       "      <th>79</th>\n",
       "      <td>79</td>\n",
       "      <td>51</td>\n",
       "      <td>Plant Health Controls</td>\n",
       "      <td>2015-09-15</td>\n",
       "      <td>2015-09-17</td>\n",
       "      <td>1</td>\n",
       "      <td>brussels/antwerp</td>\n",
       "      <td>None</td>\n",
       "    </tr>\n",
       "    <tr>\n",
       "      <th>118</th>\n",
       "      <td>118</td>\n",
       "      <td>90</td>\n",
       "      <td>Food Hygiene at Primary Production (Plants)</td>\n",
       "      <td>2015-11-16</td>\n",
       "      <td>2015-11-20</td>\n",
       "      <td>1</td>\n",
       "      <td>alicante/murcia</td>\n",
       "      <td>Spain</td>\n",
       "    </tr>\n",
       "    <tr>\n",
       "      <th>145</th>\n",
       "      <td>145</td>\n",
       "      <td>117</td>\n",
       "      <td>Plant Health Controls</td>\n",
       "      <td>2016-03-07</td>\n",
       "      <td>2016-03-11</td>\n",
       "      <td>2</td>\n",
       "      <td>venice/treviso</td>\n",
       "      <td>None</td>\n",
       "    </tr>\n",
       "    <tr>\n",
       "      <th>159</th>\n",
       "      <td>159</td>\n",
       "      <td>9</td>\n",
       "      <td>Plant Health Controls</td>\n",
       "      <td>2016-04-25</td>\n",
       "      <td>2016-04-29</td>\n",
       "      <td>2</td>\n",
       "      <td>venice/treviso</td>\n",
       "      <td>None</td>\n",
       "    </tr>\n",
       "    <tr>\n",
       "      <th>174</th>\n",
       "      <td>174</td>\n",
       "      <td>24</td>\n",
       "      <td>Plant Health Controls</td>\n",
       "      <td>2016-05-17</td>\n",
       "      <td>2016-05-19</td>\n",
       "      <td>2</td>\n",
       "      <td>brussels/antwerp</td>\n",
       "      <td>None</td>\n",
       "    </tr>\n",
       "    <tr>\n",
       "      <th>216</th>\n",
       "      <td>216</td>\n",
       "      <td>66</td>\n",
       "      <td>Import Controls on Food and Feed of Non-Animal...</td>\n",
       "      <td>2016-09-13</td>\n",
       "      <td>2016-09-16</td>\n",
       "      <td>13</td>\n",
       "      <td>rotterdam/delft</td>\n",
       "      <td>None</td>\n",
       "    </tr>\n",
       "    <tr>\n",
       "      <th>264</th>\n",
       "      <td>264</td>\n",
       "      <td>114</td>\n",
       "      <td>Food Hygiene and Flexibility</td>\n",
       "      <td>2017-03-20</td>\n",
       "      <td>2017-03-24</td>\n",
       "      <td>2</td>\n",
       "      <td>zagreb/helsinki</td>\n",
       "      <td>None</td>\n",
       "    </tr>\n",
       "  </tbody>\n",
       "</table>\n",
       "</div>"
      ],
      "text/plain": [
       "     level_0  index                                         CourseName  \\\n",
       "69        69     41  Food Hygiene at Primary Production (Aquatic An...   \n",
       "79        79     51                              Plant Health Controls   \n",
       "118      118     90        Food Hygiene at Primary Production (Plants)   \n",
       "145      145    117                              Plant Health Controls   \n",
       "159      159      9                              Plant Health Controls   \n",
       "174      174     24                              Plant Health Controls   \n",
       "216      216     66  Import Controls on Food and Feed of Non-Animal...   \n",
       "264      264    114                       Food Hygiene and Flexibility   \n",
       "\n",
       "       DateFrom      DateTo  Attendees              City Country  \n",
       "69   2015-06-28  2015-10-02          1      venice/udine   Italy  \n",
       "79   2015-09-15  2015-09-17          1  brussels/antwerp    None  \n",
       "118  2015-11-16  2015-11-20          1   alicante/murcia   Spain  \n",
       "145  2016-03-07  2016-03-11          2    venice/treviso    None  \n",
       "159  2016-04-25  2016-04-29          2    venice/treviso    None  \n",
       "174  2016-05-17  2016-05-19          2  brussels/antwerp    None  \n",
       "216  2016-09-13  2016-09-16         13   rotterdam/delft    None  \n",
       "264  2017-03-20  2017-03-24          2   zagreb/helsinki    None  "
      ]
     },
     "execution_count": 98,
     "metadata": {},
     "output_type": "execute_result"
    }
   ],
   "source": [
    "df[df['City'].str.contains('/')]"
   ]
  },
  {
   "cell_type": "code",
   "execution_count": null,
   "metadata": {
    "jupyter": {
     "outputs_hidden": false
    }
   },
   "outputs": [],
   "source": [
    "# %load ../solutions/05_25.py"
   ]
  },
  {
   "cell_type": "markdown",
   "metadata": {},
   "source": [
    "Let's decide we only want to have one city for each row. We can decide to keep only the city before the forward slash.  \n",
    ">Replace the string with a forward slash (i.e. ***/***) with the city appearing before the slash in the ***city*** column.  \n",
    ">You will have to use a [regular expression](https://docs.python.org/3/howto/regex.html#repeating-things).      \n",
    ">You can test your regular expression [here](https://regex101.com)."
   ]
  },
  {
   "cell_type": "code",
   "execution_count": 100,
   "metadata": {},
   "outputs": [],
   "source": [
    "df['City'] = df['City'].str.replace('/\\w*','')"
   ]
  },
  {
   "cell_type": "code",
   "execution_count": 101,
   "metadata": {},
   "outputs": [
    {
     "data": {
      "text/html": [
       "<div>\n",
       "<style scoped>\n",
       "    .dataframe tbody tr th:only-of-type {\n",
       "        vertical-align: middle;\n",
       "    }\n",
       "\n",
       "    .dataframe tbody tr th {\n",
       "        vertical-align: top;\n",
       "    }\n",
       "\n",
       "    .dataframe thead th {\n",
       "        text-align: right;\n",
       "    }\n",
       "</style>\n",
       "<table border=\"1\" class=\"dataframe\">\n",
       "  <thead>\n",
       "    <tr style=\"text-align: right;\">\n",
       "      <th></th>\n",
       "      <th>level_0</th>\n",
       "      <th>index</th>\n",
       "      <th>CourseName</th>\n",
       "      <th>DateFrom</th>\n",
       "      <th>DateTo</th>\n",
       "      <th>Attendees</th>\n",
       "      <th>City</th>\n",
       "      <th>Country</th>\n",
       "    </tr>\n",
       "  </thead>\n",
       "  <tbody>\n",
       "  </tbody>\n",
       "</table>\n",
       "</div>"
      ],
      "text/plain": [
       "Empty DataFrame\n",
       "Columns: [level_0, index, CourseName, DateFrom, DateTo, Attendees, City, Country]\n",
       "Index: []"
      ]
     },
     "execution_count": 101,
     "metadata": {},
     "output_type": "execute_result"
    }
   ],
   "source": [
    "df[df['City'].str.contains('/')] # to check if there are cities containing '/'"
   ]
  },
  {
   "cell_type": "code",
   "execution_count": null,
   "metadata": {},
   "outputs": [],
   "source": [
    "# %load ../solutions/05_26.py"
   ]
  },
  {
   "cell_type": "markdown",
   "metadata": {},
   "source": [
    "---\n",
    "\n",
    "<div class=\"alert alert-block alert-warning\" style=\"padding: 0px; padding-left: 20px; padding-top: 5px;\"><h2 style=\"color: #301E40\">\n",
    "Map\n",
    "</h2><br>\n",
    "</div>"
   ]
  },
  {
   "cell_type": "code",
   "execution_count": 102,
   "metadata": {
    "jupyter": {
     "outputs_hidden": false
    }
   },
   "outputs": [
    {
     "data": {
      "text/plain": [
       "Ireland           19\n",
       "Italy             15\n",
       "Spain             13\n",
       "Greece             5\n",
       "Germany            5\n",
       "IT                 5\n",
       "UK                 4\n",
       "Portugal           4\n",
       "Slovenia           4\n",
       "Belgium            4\n",
       "Netherlands        3\n",
       "France             3\n",
       "Poland             2\n",
       "CZ                 1\n",
       "Switzerland        1\n",
       "Slovakia           1\n",
       "Sweden             1\n",
       "Estonia            1\n",
       "SI                 1\n",
       "BG                 1\n",
       "Hungary            1\n",
       "Lithuania          1\n",
       "Austria            1\n",
       "United Kingdom     1\n",
       "Denmark            1\n",
       "Croatia            1\n",
       "GR                 1\n",
       "Latvia             1\n",
       "Name: Country, dtype: int64"
      ]
     },
     "execution_count": 102,
     "metadata": {},
     "output_type": "execute_result"
    }
   ],
   "source": [
    "df['Country'].value_counts()"
   ]
  },
  {
   "cell_type": "markdown",
   "metadata": {},
   "source": [
    "We saw that some countries were filled with their country code, and others with their name. We are going to move everything to the same format.  \n",
    "We can do that by mapping a dictionary to a column. It will then replace the ***key*** with the corresponding ***value***.  \n",
    ">Complete the code below to replace the country codes with the country name.  \n",
    ">Note that we use a mask as we want to replace only certain values of the series."
   ]
  },
  {
   "cell_type": "code",
   "execution_count": 104,
   "metadata": {
    "jupyter": {
     "outputs_hidden": false
    }
   },
   "outputs": [],
   "source": [
    "dict_codes = {'BG':'Bulgaria', 'CZ':'Czech Republic', 'IT':'Italy', 'GR':'Greece', 'SI':'Slovenia', 'UK':'United Kingdom'}\n",
    "country_in_codes = df['Country'].isin(dict_codes.keys())\n",
    "df.loc[country_in_codes, 'Country'] = df.loc[country_in_codes, 'Country'].map(dict_codes)"
   ]
  },
  {
   "cell_type": "code",
   "execution_count": null,
   "metadata": {
    "jupyter": {
     "outputs_hidden": false
    }
   },
   "outputs": [],
   "source": [
    "# %load ../solutions/05_27.py"
   ]
  },
  {
   "cell_type": "code",
   "execution_count": 106,
   "metadata": {
    "jupyter": {
     "outputs_hidden": false
    }
   },
   "outputs": [
    {
     "data": {
      "text/plain": [
       "NaN               165\n",
       "Italy              20\n",
       "Ireland            19\n",
       "Spain              13\n",
       "Greece              6\n",
       "United Kingdom      5\n",
       "Slovenia            5\n",
       "Germany             5\n",
       "Belgium             4\n",
       "Portugal            4\n",
       "Netherlands         3\n",
       "France              3\n",
       "Poland              2\n",
       "Croatia             1\n",
       "Sweden              1\n",
       "Bulgaria            1\n",
       "Latvia              1\n",
       "Denmark             1\n",
       "Estonia             1\n",
       "Slovakia            1\n",
       "Hungary             1\n",
       "Switzerland         1\n",
       "Austria             1\n",
       "Lithuania           1\n",
       "Czech Republic      1\n",
       "Name: Country, dtype: int64"
      ]
     },
     "execution_count": 106,
     "metadata": {},
     "output_type": "execute_result"
    }
   ],
   "source": [
    "df['Country'].value_counts(dropna=False)"
   ]
  },
  {
   "cell_type": "markdown",
   "metadata": {},
   "source": [
    "Certain city values are unknown.  \n",
    ">Have a look at the ***country*** values where the ***city*** is ***unknown***."
   ]
  },
  {
   "cell_type": "code",
   "execution_count": 107,
   "metadata": {},
   "outputs": [
    {
     "data": {
      "text/plain": [
       "lisbon       16\n",
       "trim         12\n",
       "rome         11\n",
       "budapest     11\n",
       "unknown      11\n",
       "             ..\n",
       "tarragona     1\n",
       "utrecht       1\n",
       "nantes        1\n",
       "seville       1\n",
       "poland        1\n",
       "Name: City, Length: 64, dtype: int64"
      ]
     },
     "execution_count": 107,
     "metadata": {},
     "output_type": "execute_result"
    }
   ],
   "source": [
    "df['City'].value_counts()"
   ]
  },
  {
   "cell_type": "code",
   "execution_count": null,
   "metadata": {},
   "outputs": [],
   "source": [
    "# %load ../solutions/05_28.py"
   ]
  },
  {
   "cell_type": "markdown",
   "metadata": {},
   "source": [
    ">Complete the code bellow to replace the value ***unknown*** in the ***city*** column with the capital of the corresponding ***country***. "
   ]
  },
  {
   "cell_type": "code",
   "execution_count": 110,
   "metadata": {},
   "outputs": [],
   "source": [
    "dict_capitals = {'Denmark':'copenhague', 'France':'paris', 'Italy':'rome', 'Spain':'madrid', 'United Kingdom':'london'}\n",
    "unknown_capitals = df['City'] == 'unknown'\n",
    "df.loc[unknown_capitals, 'City'] = df.loc[unknown_capitals, 'Country'].map(dict_capitals)"
   ]
  },
  {
   "cell_type": "code",
   "execution_count": null,
   "metadata": {},
   "outputs": [],
   "source": [
    "# %load ../solutions/05_29.py"
   ]
  },
  {
   "cell_type": "markdown",
   "metadata": {},
   "source": [
    "Lots of countries are missing, but we can fill them using the cities.  \n",
    "We can create a dictionary of cities and their corresponding countries using the rows where the ***country*** is not null."
   ]
  },
  {
   "cell_type": "code",
   "execution_count": 111,
   "metadata": {},
   "outputs": [],
   "source": [
    "dict_cities = df.loc[df['Country'].notnull(), ['City', 'Country']].set_index('City').to_dict()['Country']"
   ]
  },
  {
   "cell_type": "markdown",
   "metadata": {},
   "source": [
    "We now want to check if all the cities we need are in our dictionary.  \n",
    ">Subtracting the dictionary keys to the set of the ***city*** values, find which cities are in the ***city*** column but not in the dictionary ***keys***."
   ]
  },
  {
   "cell_type": "code",
   "execution_count": 114,
   "metadata": {},
   "outputs": [
    {
     "data": {
      "text/plain": [
       "{'bristol',\n",
       " 'd?sseldorf',\n",
       " 'denmark',\n",
       " 'gothenburg',\n",
       " 'graz',\n",
       " 'lyon',\n",
       " 'murcia',\n",
       " 'parma',\n",
       " 'poland',\n",
       " 'sofia bulgaria'}"
      ]
     },
     "execution_count": 114,
     "metadata": {},
     "output_type": "execute_result"
    }
   ],
   "source": [
    "set(df[\"City\"]) - dict_cities.keys()"
   ]
  },
  {
   "cell_type": "code",
   "execution_count": null,
   "metadata": {},
   "outputs": [],
   "source": [
    "# %load ../solutions/05_30.py"
   ]
  },
  {
   "cell_type": "markdown",
   "metadata": {},
   "source": [
    ">Knowing that Bristol is in the United Kingdom, Gothenburg in Sweden, Graz in Austria, Lyon in France, Murcia in Spain and Parma in Italy, add some key-value pair to the dictionary ***dict_cities***.    \n",
    ">You can either add each key-value pair or you can [update](https://python-reference.readthedocs.io/en/latest/docs/dict/update.html) dict_cities with another dictionary. "
   ]
  },
  {
   "cell_type": "code",
   "execution_count": 116,
   "metadata": {},
   "outputs": [],
   "source": [
    "dict_cities.update({'bristol':'United Kingdom', \n",
    "                    'gothenburg':'Sweden', \n",
    "                    'graz':'Austria', \n",
    "                    'lyon':'France', \n",
    "                    'murcia':'Spain', \n",
    "                    'Parma':'Italy'})"
   ]
  },
  {
   "cell_type": "code",
   "execution_count": null,
   "metadata": {},
   "outputs": [],
   "source": [
    "# %load ../solutions/05_31.py"
   ]
  },
  {
   "cell_type": "markdown",
   "metadata": {},
   "source": [
    ">Use this dictionary to fill in some of the missing countries."
   ]
  },
  {
   "cell_type": "code",
   "execution_count": 119,
   "metadata": {},
   "outputs": [],
   "source": [
    "no_country = df['Country'].isnull()\n",
    "df.loc[no_country, 'Country'] = df.loc[no_country, 'City'].map(dict_cities)"
   ]
  },
  {
   "cell_type": "code",
   "execution_count": null,
   "metadata": {},
   "outputs": [],
   "source": [
    "# %load ../solutions/05_32.py"
   ]
  },
  {
   "cell_type": "markdown",
   "metadata": {},
   "source": [
    ">Get the count of the different values of the ***country*** column, showing the NaN values."
   ]
  },
  {
   "cell_type": "code",
   "execution_count": 129,
   "metadata": {},
   "outputs": [
    {
     "data": {
      "text/plain": [
       "Italy             41\n",
       "Spain             37\n",
       "Ireland           20\n",
       "Portugal          18\n",
       "Germany           17\n",
       "NaN               14\n",
       "United Kingdom    13\n",
       "Slovenia          13\n",
       "Latvia            11\n",
       "Hungary           11\n",
       "Belgium           10\n",
       "Greece             9\n",
       "Estonia            8\n",
       "Czech Republic     7\n",
       "Poland             7\n",
       "Netherlands        6\n",
       "Slovakia           4\n",
       "Austria            4\n",
       "Croatia            4\n",
       "Lithuania          4\n",
       "France             3\n",
       "Switzerland        2\n",
       "Bulgaria           1\n",
       "Sweden             1\n",
       "Denmark            1\n",
       "Name: Country, dtype: int64"
      ]
     },
     "execution_count": 129,
     "metadata": {},
     "output_type": "execute_result"
    }
   ],
   "source": [
    "df['Country'].value_counts(dropna=False)"
   ]
  },
  {
   "cell_type": "code",
   "execution_count": null,
   "metadata": {},
   "outputs": [],
   "source": [
    "# %load ../solutions/05_33.py"
   ]
  },
  {
   "cell_type": "markdown",
   "metadata": {},
   "source": [
    "We can see that there are only 4 NaN values. They correspond to bad data entries that we could \"manually\" correct. Feel free to add a few calls below and give it a try if you feel like it!"
   ]
  },
  {
   "cell_type": "markdown",
   "metadata": {},
   "source": [
    "---\n",
    "\n",
    "<div class=\"alert alert-block alert-warning\" style=\"padding: 0px; padding-left: 20px; padding-top: 5px;\"><h2 style=\"color: #301E40\">\n",
    "Apply\n",
    "</h2><br>\n",
    "</div>"
   ]
  },
  {
   "cell_type": "markdown",
   "metadata": {},
   "source": [
    ">Write a function that returns ***single*** if the value passed is 1, and ***multiple*** otherwise."
   ]
  },
  {
   "cell_type": "code",
   "execution_count": 134,
   "metadata": {
    "jupyter": {
     "outputs_hidden": false
    }
   },
   "outputs": [],
   "source": [
    "def f(x):\n",
    "    if x == 1:\n",
    "        print('single')\n",
    "    else:\n",
    "        print('multiple')"
   ]
  },
  {
   "cell_type": "code",
   "execution_count": null,
   "metadata": {
    "jupyter": {
     "outputs_hidden": false
    }
   },
   "outputs": [],
   "source": [
    "# %load ../solutions/05_34.py"
   ]
  },
  {
   "cell_type": "markdown",
   "metadata": {},
   "source": [
    ">Apply this function to the ***Attendees*** column."
   ]
  },
  {
   "cell_type": "code",
   "execution_count": 136,
   "metadata": {
    "jupyter": {
     "outputs_hidden": false
    }
   },
   "outputs": [
    {
     "name": "stdout",
     "output_type": "stream",
     "text": [
      "single\n",
      "multiple\n",
      "multiple\n",
      "multiple\n",
      "multiple\n",
      "single\n",
      "single\n",
      "single\n",
      "multiple\n",
      "multiple\n",
      "single\n",
      "single\n",
      "single\n",
      "multiple\n",
      "multiple\n",
      "single\n",
      "multiple\n",
      "single\n",
      "single\n",
      "single\n",
      "multiple\n",
      "single\n",
      "single\n",
      "single\n",
      "single\n",
      "single\n",
      "single\n",
      "multiple\n",
      "multiple\n",
      "single\n",
      "multiple\n",
      "multiple\n",
      "multiple\n",
      "multiple\n",
      "multiple\n",
      "single\n",
      "multiple\n",
      "single\n",
      "multiple\n",
      "multiple\n",
      "multiple\n",
      "single\n",
      "multiple\n",
      "multiple\n",
      "multiple\n",
      "single\n",
      "multiple\n",
      "multiple\n",
      "multiple\n",
      "single\n",
      "single\n",
      "multiple\n",
      "multiple\n",
      "multiple\n",
      "single\n",
      "multiple\n",
      "multiple\n",
      "multiple\n",
      "single\n",
      "multiple\n",
      "multiple\n",
      "single\n",
      "single\n",
      "multiple\n",
      "single\n",
      "single\n",
      "multiple\n",
      "multiple\n",
      "single\n",
      "single\n",
      "single\n",
      "single\n",
      "single\n",
      "multiple\n",
      "single\n",
      "single\n",
      "multiple\n",
      "multiple\n",
      "multiple\n",
      "single\n",
      "multiple\n",
      "single\n",
      "multiple\n",
      "single\n",
      "single\n",
      "multiple\n",
      "multiple\n",
      "multiple\n",
      "multiple\n",
      "single\n",
      "single\n",
      "multiple\n",
      "single\n",
      "single\n",
      "multiple\n",
      "single\n",
      "single\n",
      "multiple\n",
      "single\n",
      "single\n",
      "multiple\n",
      "multiple\n",
      "multiple\n",
      "multiple\n",
      "multiple\n",
      "multiple\n",
      "multiple\n",
      "multiple\n",
      "single\n",
      "single\n",
      "multiple\n",
      "single\n",
      "multiple\n",
      "multiple\n",
      "multiple\n",
      "single\n",
      "single\n",
      "single\n",
      "single\n",
      "multiple\n",
      "single\n",
      "multiple\n",
      "multiple\n",
      "multiple\n",
      "multiple\n",
      "multiple\n",
      "multiple\n",
      "single\n",
      "single\n",
      "multiple\n",
      "single\n",
      "single\n",
      "single\n",
      "single\n",
      "single\n",
      "multiple\n",
      "multiple\n",
      "single\n",
      "multiple\n",
      "multiple\n",
      "multiple\n",
      "multiple\n",
      "single\n",
      "multiple\n",
      "single\n",
      "multiple\n",
      "multiple\n",
      "multiple\n",
      "multiple\n",
      "multiple\n",
      "multiple\n",
      "multiple\n",
      "multiple\n",
      "multiple\n",
      "single\n",
      "single\n",
      "multiple\n",
      "single\n",
      "multiple\n",
      "multiple\n",
      "multiple\n",
      "multiple\n",
      "single\n",
      "multiple\n",
      "single\n",
      "multiple\n",
      "multiple\n",
      "single\n",
      "multiple\n",
      "single\n",
      "single\n",
      "single\n",
      "single\n",
      "multiple\n",
      "multiple\n",
      "single\n",
      "multiple\n",
      "multiple\n",
      "multiple\n",
      "single\n",
      "multiple\n",
      "multiple\n",
      "multiple\n",
      "multiple\n",
      "single\n",
      "multiple\n",
      "multiple\n",
      "multiple\n",
      "single\n",
      "multiple\n",
      "single\n",
      "multiple\n",
      "multiple\n",
      "multiple\n",
      "multiple\n",
      "single\n",
      "multiple\n",
      "multiple\n",
      "single\n",
      "multiple\n",
      "multiple\n",
      "multiple\n",
      "single\n",
      "single\n",
      "single\n",
      "single\n",
      "single\n",
      "single\n",
      "multiple\n",
      "single\n",
      "multiple\n",
      "multiple\n",
      "multiple\n",
      "single\n",
      "multiple\n",
      "multiple\n",
      "multiple\n",
      "single\n",
      "multiple\n",
      "multiple\n",
      "multiple\n",
      "multiple\n",
      "multiple\n",
      "multiple\n",
      "multiple\n",
      "multiple\n",
      "multiple\n",
      "multiple\n",
      "multiple\n",
      "multiple\n",
      "multiple\n",
      "multiple\n",
      "multiple\n",
      "multiple\n",
      "single\n",
      "multiple\n",
      "single\n",
      "multiple\n",
      "multiple\n",
      "multiple\n",
      "multiple\n",
      "multiple\n",
      "single\n",
      "single\n",
      "multiple\n",
      "single\n",
      "multiple\n",
      "single\n",
      "multiple\n",
      "multiple\n",
      "multiple\n",
      "multiple\n",
      "multiple\n",
      "multiple\n",
      "single\n",
      "single\n",
      "single\n",
      "multiple\n",
      "single\n",
      "multiple\n",
      "single\n",
      "multiple\n",
      "multiple\n",
      "single\n",
      "multiple\n",
      "multiple\n"
     ]
    },
    {
     "data": {
      "text/plain": [
       "0      None\n",
       "1      None\n",
       "2      None\n",
       "3      None\n",
       "4      None\n",
       "       ... \n",
       "261    None\n",
       "262    None\n",
       "263    None\n",
       "264    None\n",
       "265    None\n",
       "Name: Attendees, Length: 266, dtype: object"
      ]
     },
     "execution_count": 136,
     "metadata": {},
     "output_type": "execute_result"
    }
   ],
   "source": [
    "df['Attendees'].apply(f)"
   ]
  },
  {
   "cell_type": "code",
   "execution_count": null,
   "metadata": {
    "jupyter": {
     "outputs_hidden": false
    }
   },
   "outputs": [],
   "source": [
    "# %load ../solutions/05_35.py"
   ]
  },
  {
   "cell_type": "markdown",
   "metadata": {},
   "source": [
    "---\n",
    "\n",
    "<div class=\"alert alert-block alert-warning\" style=\"padding: 0px; padding-left: 20px; padding-top: 5px;\"><h2 style=\"color: #301E40\">\n",
    "Join\n",
    "</h2><br>\n",
    "</div>"
   ]
  },
  {
   "cell_type": "markdown",
   "metadata": {},
   "source": [
    ">Load the language data and assign it to languages (path: '../data/food_training/languages.csv')"
   ]
  },
  {
   "cell_type": "code",
   "execution_count": 137,
   "metadata": {},
   "outputs": [],
   "source": [
    "languages = pd.read_csv('../data/food_training/languages.csv')"
   ]
  },
  {
   "cell_type": "code",
   "execution_count": null,
   "metadata": {},
   "outputs": [],
   "source": [
    "# %load ../solutions/05_36.py"
   ]
  },
  {
   "cell_type": "code",
   "execution_count": 138,
   "metadata": {},
   "outputs": [
    {
     "data": {
      "text/html": [
       "<div>\n",
       "<style scoped>\n",
       "    .dataframe tbody tr th:only-of-type {\n",
       "        vertical-align: middle;\n",
       "    }\n",
       "\n",
       "    .dataframe tbody tr th {\n",
       "        vertical-align: top;\n",
       "    }\n",
       "\n",
       "    .dataframe thead th {\n",
       "        text-align: right;\n",
       "    }\n",
       "</style>\n",
       "<table border=\"1\" class=\"dataframe\">\n",
       "  <thead>\n",
       "    <tr style=\"text-align: right;\">\n",
       "      <th></th>\n",
       "      <th>Country</th>\n",
       "      <th>Official and national Languages</th>\n",
       "    </tr>\n",
       "  </thead>\n",
       "  <tbody>\n",
       "    <tr>\n",
       "      <th>0</th>\n",
       "      <td>Albania</td>\n",
       "      <td>Albanian</td>\n",
       "    </tr>\n",
       "    <tr>\n",
       "      <th>1</th>\n",
       "      <td>Andorra</td>\n",
       "      <td>Catalan</td>\n",
       "    </tr>\n",
       "    <tr>\n",
       "      <th>2</th>\n",
       "      <td>Austria</td>\n",
       "      <td>German/Slovene/Croatian/Hungarian</td>\n",
       "    </tr>\n",
       "    <tr>\n",
       "      <th>3</th>\n",
       "      <td>Belarus</td>\n",
       "      <td>Belarusian/Russian</td>\n",
       "    </tr>\n",
       "    <tr>\n",
       "      <th>4</th>\n",
       "      <td>Belgium</td>\n",
       "      <td>Dutch/French/German</td>\n",
       "    </tr>\n",
       "  </tbody>\n",
       "</table>\n",
       "</div>"
      ],
      "text/plain": [
       "   Country    Official and national Languages\n",
       "0  Albania                           Albanian\n",
       "1  Andorra                            Catalan\n",
       "2  Austria  German/Slovene/Croatian/Hungarian\n",
       "3  Belarus                 Belarusian/Russian\n",
       "4  Belgium                Dutch/French/German"
      ]
     },
     "execution_count": 138,
     "metadata": {},
     "output_type": "execute_result"
    }
   ],
   "source": [
    "languages.head()"
   ]
  },
  {
   "cell_type": "markdown",
   "metadata": {},
   "source": [
    ">Join df and languages to add the language information to df.  \n",
    ">You can check the page about [merge, join and concatenation](https://pandas.pydata.org/pandas-docs/stable/user_guide/merging.html) or the merge method [documentation](https://pandas.pydata.org/pandas-docs/stable/reference/api/pandas.DataFrame.merge.html)."
   ]
  },
  {
   "cell_type": "code",
   "execution_count": 144,
   "metadata": {},
   "outputs": [],
   "source": [
    "df1 = pd.merge (df, languages, how='left', on='Country')"
   ]
  },
  {
   "cell_type": "code",
   "execution_count": null,
   "metadata": {},
   "outputs": [],
   "source": [
    "# %load ../solutions/05_37.py"
   ]
  },
  {
   "cell_type": "code",
   "execution_count": 145,
   "metadata": {},
   "outputs": [
    {
     "name": "stdout",
     "output_type": "stream",
     "text": [
      "<class 'pandas.core.frame.DataFrame'>\n",
      "Int64Index: 266 entries, 0 to 265\n",
      "Data columns (total 9 columns):\n",
      " #   Column                           Non-Null Count  Dtype \n",
      "---  ------                           --------------  ----- \n",
      " 0   level_0                          266 non-null    int64 \n",
      " 1   index                            266 non-null    int64 \n",
      " 2   CourseName                       266 non-null    object\n",
      " 3   DateFrom                         266 non-null    object\n",
      " 4   DateTo                           266 non-null    object\n",
      " 5   Attendees                        266 non-null    int64 \n",
      " 6   City                             266 non-null    object\n",
      " 7   Country                          252 non-null    object\n",
      " 8   Official and national Languages  252 non-null    object\n",
      "dtypes: int64(3), object(6)\n",
      "memory usage: 20.8+ KB\n"
     ]
    }
   ],
   "source": [
    "df1.info()"
   ]
  },
  {
   "cell_type": "markdown",
   "metadata": {},
   "source": [
    ">Drop the ***Country*** column from df."
   ]
  },
  {
   "cell_type": "code",
   "execution_count": 147,
   "metadata": {},
   "outputs": [
    {
     "data": {
      "text/html": [
       "<div>\n",
       "<style scoped>\n",
       "    .dataframe tbody tr th:only-of-type {\n",
       "        vertical-align: middle;\n",
       "    }\n",
       "\n",
       "    .dataframe tbody tr th {\n",
       "        vertical-align: top;\n",
       "    }\n",
       "\n",
       "    .dataframe thead th {\n",
       "        text-align: right;\n",
       "    }\n",
       "</style>\n",
       "<table border=\"1\" class=\"dataframe\">\n",
       "  <thead>\n",
       "    <tr style=\"text-align: right;\">\n",
       "      <th></th>\n",
       "      <th>level_0</th>\n",
       "      <th>index</th>\n",
       "      <th>CourseName</th>\n",
       "      <th>DateFrom</th>\n",
       "      <th>DateTo</th>\n",
       "      <th>Attendees</th>\n",
       "      <th>City</th>\n",
       "      <th>Official and national Languages</th>\n",
       "    </tr>\n",
       "  </thead>\n",
       "  <tbody>\n",
       "    <tr>\n",
       "      <th>0</th>\n",
       "      <td>0</td>\n",
       "      <td>0</td>\n",
       "      <td>Risk Assessment (Pest)</td>\n",
       "      <td>2015-01-12</td>\n",
       "      <td>2015-01-16</td>\n",
       "      <td>1</td>\n",
       "      <td>lisbon</td>\n",
       "      <td>Portuguese</td>\n",
       "    </tr>\n",
       "    <tr>\n",
       "      <th>1</th>\n",
       "      <td>1</td>\n",
       "      <td>1</td>\n",
       "      <td>Organic Farming</td>\n",
       "      <td>2015-01-19</td>\n",
       "      <td>2015-01-22</td>\n",
       "      <td>2</td>\n",
       "      <td>bristol</td>\n",
       "      <td>NaN</td>\n",
       "    </tr>\n",
       "    <tr>\n",
       "      <th>2</th>\n",
       "      <td>2</td>\n",
       "      <td>2</td>\n",
       "      <td>Prevention Control and Eradication of Transmis...</td>\n",
       "      <td>2015-01-20</td>\n",
       "      <td>2015-01-23</td>\n",
       "      <td>2</td>\n",
       "      <td>ljubljana</td>\n",
       "      <td>Slovenian</td>\n",
       "    </tr>\n",
       "    <tr>\n",
       "      <th>3</th>\n",
       "      <td>3</td>\n",
       "      <td>3</td>\n",
       "      <td>Contingency Planning</td>\n",
       "      <td>2015-01-26</td>\n",
       "      <td>2015-01-30</td>\n",
       "      <td>2</td>\n",
       "      <td>padua</td>\n",
       "      <td>Italian</td>\n",
       "    </tr>\n",
       "    <tr>\n",
       "      <th>4</th>\n",
       "      <td>4</td>\n",
       "      <td>4</td>\n",
       "      <td>HACCP</td>\n",
       "      <td>2015-02-02</td>\n",
       "      <td>2015-02-06</td>\n",
       "      <td>2</td>\n",
       "      <td>rome</td>\n",
       "      <td>Italian</td>\n",
       "    </tr>\n",
       "    <tr>\n",
       "      <th>...</th>\n",
       "      <td>...</td>\n",
       "      <td>...</td>\n",
       "      <td>...</td>\n",
       "      <td>...</td>\n",
       "      <td>...</td>\n",
       "      <td>...</td>\n",
       "      <td>...</td>\n",
       "      <td>...</td>\n",
       "    </tr>\n",
       "    <tr>\n",
       "      <th>261</th>\n",
       "      <td>261</td>\n",
       "      <td>111</td>\n",
       "      <td>Contingency Planning</td>\n",
       "      <td>2017-03-06</td>\n",
       "      <td>2017-03-10</td>\n",
       "      <td>3</td>\n",
       "      <td>venice</td>\n",
       "      <td>Italian</td>\n",
       "    </tr>\n",
       "    <tr>\n",
       "      <th>262</th>\n",
       "      <td>262</td>\n",
       "      <td>112</td>\n",
       "      <td>Audit B1 - Standard Level</td>\n",
       "      <td>2017-03-06</td>\n",
       "      <td>2017-03-10</td>\n",
       "      <td>2</td>\n",
       "      <td>valencia</td>\n",
       "      <td>Spanish/Catalan/Galician/Basque</td>\n",
       "    </tr>\n",
       "    <tr>\n",
       "      <th>263</th>\n",
       "      <td>263</td>\n",
       "      <td>113</td>\n",
       "      <td>Audit A</td>\n",
       "      <td>2017-03-20</td>\n",
       "      <td>2017-03-24</td>\n",
       "      <td>1</td>\n",
       "      <td>bratislava</td>\n",
       "      <td>Slovak</td>\n",
       "    </tr>\n",
       "    <tr>\n",
       "      <th>264</th>\n",
       "      <td>264</td>\n",
       "      <td>114</td>\n",
       "      <td>Food Hygiene and Flexibility</td>\n",
       "      <td>2017-03-20</td>\n",
       "      <td>2017-03-24</td>\n",
       "      <td>2</td>\n",
       "      <td>zagreb</td>\n",
       "      <td>Croatian</td>\n",
       "    </tr>\n",
       "    <tr>\n",
       "      <th>265</th>\n",
       "      <td>265</td>\n",
       "      <td>115</td>\n",
       "      <td>Animal Health and Disease Prevention for Bees ...</td>\n",
       "      <td>2017-03-28</td>\n",
       "      <td>2017-03-31</td>\n",
       "      <td>2</td>\n",
       "      <td>antwerp</td>\n",
       "      <td>Dutch/French/German</td>\n",
       "    </tr>\n",
       "  </tbody>\n",
       "</table>\n",
       "<p>266 rows × 8 columns</p>\n",
       "</div>"
      ],
      "text/plain": [
       "     level_0  index                                         CourseName  \\\n",
       "0          0      0                             Risk Assessment (Pest)   \n",
       "1          1      1                                    Organic Farming   \n",
       "2          2      2  Prevention Control and Eradication of Transmis...   \n",
       "3          3      3                               Contingency Planning   \n",
       "4          4      4                                              HACCP   \n",
       "..       ...    ...                                                ...   \n",
       "261      261    111                               Contingency Planning   \n",
       "262      262    112                          Audit B1 - Standard Level   \n",
       "263      263    113                                            Audit A   \n",
       "264      264    114                       Food Hygiene and Flexibility   \n",
       "265      265    115  Animal Health and Disease Prevention for Bees ...   \n",
       "\n",
       "       DateFrom      DateTo  Attendees        City  \\\n",
       "0    2015-01-12  2015-01-16          1      lisbon   \n",
       "1    2015-01-19  2015-01-22          2     bristol   \n",
       "2    2015-01-20  2015-01-23          2   ljubljana   \n",
       "3    2015-01-26  2015-01-30          2       padua   \n",
       "4    2015-02-02  2015-02-06          2        rome   \n",
       "..          ...         ...        ...         ...   \n",
       "261  2017-03-06  2017-03-10          3      venice   \n",
       "262  2017-03-06  2017-03-10          2    valencia   \n",
       "263  2017-03-20  2017-03-24          1  bratislava   \n",
       "264  2017-03-20  2017-03-24          2      zagreb   \n",
       "265  2017-03-28  2017-03-31          2     antwerp   \n",
       "\n",
       "     Official and national Languages  \n",
       "0                         Portuguese  \n",
       "1                                NaN  \n",
       "2                          Slovenian  \n",
       "3                            Italian  \n",
       "4                            Italian  \n",
       "..                               ...  \n",
       "261                          Italian  \n",
       "262  Spanish/Catalan/Galician/Basque  \n",
       "263                           Slovak  \n",
       "264                         Croatian  \n",
       "265              Dutch/French/German  \n",
       "\n",
       "[266 rows x 8 columns]"
      ]
     },
     "execution_count": 147,
     "metadata": {},
     "output_type": "execute_result"
    }
   ],
   "source": [
    "df1.drop('Country', axis=1)"
   ]
  },
  {
   "cell_type": "code",
   "execution_count": null,
   "metadata": {},
   "outputs": [],
   "source": [
    "# %load ../solutions/05_38.py"
   ]
  },
  {
   "cell_type": "markdown",
   "metadata": {},
   "source": [
    "---\n",
    "\n",
    "<div class=\"alert alert-block alert-warning\" style=\"padding: 0px; padding-left: 20px; padding-top: 5px;\"><h2 style=\"color: #301E40\">\n",
    "Date time\n",
    "</h2><br>\n",
    "</div>"
   ]
  },
  {
   "cell_type": "markdown",
   "metadata": {},
   "source": [
    ">Check the dtype of the ***DateFrom***."
   ]
  },
  {
   "cell_type": "code",
   "execution_count": null,
   "metadata": {
    "jupyter": {
     "outputs_hidden": false
    }
   },
   "outputs": [],
   "source": []
  },
  {
   "cell_type": "code",
   "execution_count": null,
   "metadata": {
    "jupyter": {
     "outputs_hidden": false
    }
   },
   "outputs": [],
   "source": [
    "# %load ../solutions/05_39.py"
   ]
  },
  {
   "cell_type": "markdown",
   "metadata": {},
   "source": [
    "***DateFrom*** and ***DateTo*** are objects.  \n",
    ">Convert these two columns to ***datetime*** format."
   ]
  },
  {
   "cell_type": "code",
   "execution_count": null,
   "metadata": {
    "jupyter": {
     "outputs_hidden": false
    }
   },
   "outputs": [],
   "source": []
  },
  {
   "cell_type": "code",
   "execution_count": null,
   "metadata": {
    "jupyter": {
     "outputs_hidden": false
    }
   },
   "outputs": [],
   "source": [
    "# %load ../solutions/05_40.py"
   ]
  },
  {
   "cell_type": "markdown",
   "metadata": {},
   "source": [
    "Note: We could have used the parameter *parse_dates* when loading data.  \n",
    "We can now use these columns to filter or do some calculation.\n",
    ">Display the rows where the training started after the first February 2017."
   ]
  },
  {
   "cell_type": "code",
   "execution_count": null,
   "metadata": {
    "jupyter": {
     "outputs_hidden": false
    }
   },
   "outputs": [],
   "source": []
  },
  {
   "cell_type": "code",
   "execution_count": null,
   "metadata": {
    "jupyter": {
     "outputs_hidden": false
    }
   },
   "outputs": [],
   "source": [
    "# %load ../solutions/05_41.py"
   ]
  },
  {
   "cell_type": "markdown",
   "metadata": {},
   "source": [
    ">Create a ***duration*** column with the duration of the training."
   ]
  },
  {
   "cell_type": "code",
   "execution_count": null,
   "metadata": {
    "jupyter": {
     "outputs_hidden": false
    }
   },
   "outputs": [],
   "source": []
  },
  {
   "cell_type": "code",
   "execution_count": null,
   "metadata": {
    "jupyter": {
     "outputs_hidden": false
    }
   },
   "outputs": [],
   "source": [
    "# %load ../solutions/05_42.py"
   ]
  },
  {
   "cell_type": "markdown",
   "metadata": {},
   "source": [
    ">Create a ***month*** column indicating which month the training started.  \n",
    ">Plot an histogram of the ***month*** column."
   ]
  },
  {
   "cell_type": "code",
   "execution_count": null,
   "metadata": {
    "jupyter": {
     "outputs_hidden": false
    }
   },
   "outputs": [],
   "source": []
  },
  {
   "cell_type": "code",
   "execution_count": null,
   "metadata": {
    "jupyter": {
     "outputs_hidden": false
    }
   },
   "outputs": [],
   "source": [
    "# %load ../solutions/05_43.py"
   ]
  },
  {
   "cell_type": "markdown",
   "metadata": {},
   "source": [
    "---\n",
    "\n",
    "<div class=\"alert alert-block alert-warning\" style=\"padding: 0px; padding-left: 20px; padding-top: 5px;\"><h2 style=\"color: #301E40\">\n",
    "Sorting values\n",
    "</h2><br>\n",
    "</div>"
   ]
  },
  {
   "cell_type": "markdown",
   "metadata": {},
   "source": [
    ">Sort df in alphabetical order of ***cities***."
   ]
  },
  {
   "cell_type": "code",
   "execution_count": null,
   "metadata": {
    "jupyter": {
     "outputs_hidden": false
    }
   },
   "outputs": [],
   "source": []
  },
  {
   "cell_type": "code",
   "execution_count": null,
   "metadata": {
    "jupyter": {
     "outputs_hidden": false
    }
   },
   "outputs": [],
   "source": [
    "# %load ../solutions/05_44.py"
   ]
  },
  {
   "cell_type": "markdown",
   "metadata": {},
   "source": [
    ">Sort df by ascending ***duration*** and descending number of ***Attendees***."
   ]
  },
  {
   "cell_type": "code",
   "execution_count": null,
   "metadata": {
    "jupyter": {
     "outputs_hidden": false
    }
   },
   "outputs": [],
   "source": []
  },
  {
   "cell_type": "code",
   "execution_count": null,
   "metadata": {
    "jupyter": {
     "outputs_hidden": false
    }
   },
   "outputs": [],
   "source": [
    "# %load ../solutions/05_45.py"
   ]
  },
  {
   "cell_type": "markdown",
   "metadata": {},
   "source": [
    "We can see that there was a couple of issues with dates data entry..."
   ]
  },
  {
   "cell_type": "markdown",
   "metadata": {},
   "source": [
    "---\n",
    "\n",
    "<div class=\"alert alert-block alert-warning\" style=\"padding: 0px; padding-left: 20px; padding-top: 5px;\"><h2 style=\"color: #301E40\">\n",
    "Group By\n",
    "</h2><br>\n",
    "</div>"
   ]
  },
  {
   "cell_type": "markdown",
   "metadata": {},
   "source": [
    ">Group df by ***city***. Assign the grouped data to df_gr."
   ]
  },
  {
   "cell_type": "code",
   "execution_count": null,
   "metadata": {
    "jupyter": {
     "outputs_hidden": false
    }
   },
   "outputs": [],
   "source": []
  },
  {
   "cell_type": "code",
   "execution_count": null,
   "metadata": {
    "jupyter": {
     "outputs_hidden": false
    }
   },
   "outputs": [],
   "source": [
    "# %load ../solutions/05_46.py"
   ]
  },
  {
   "cell_type": "markdown",
   "metadata": {},
   "source": [
    ">Get the mean number of ***Attendees*** for the grouped data."
   ]
  },
  {
   "cell_type": "code",
   "execution_count": null,
   "metadata": {
    "jupyter": {
     "outputs_hidden": false
    }
   },
   "outputs": [],
   "source": []
  },
  {
   "cell_type": "code",
   "execution_count": null,
   "metadata": {
    "jupyter": {
     "outputs_hidden": false
    }
   },
   "outputs": [],
   "source": [
    "# %load ../solutions/05_47.py"
   ]
  }
 ],
 "metadata": {
  "kernelspec": {
   "display_name": "Python 3",
   "language": "python",
   "name": "python3"
  },
  "language_info": {
   "codemirror_mode": {
    "name": "ipython",
    "version": 3
   },
   "file_extension": ".py",
   "mimetype": "text/x-python",
   "name": "python",
   "nbconvert_exporter": "python",
   "pygments_lexer": "ipython3",
   "version": "3.8.5"
  }
 },
 "nbformat": 4,
 "nbformat_minor": 4
}
